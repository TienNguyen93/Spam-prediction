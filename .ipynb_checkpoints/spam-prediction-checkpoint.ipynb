{
 "cells": [
  {
   "cell_type": "markdown",
   "id": "5c76b89c",
   "metadata": {},
   "source": [
    "## Data Exploration"
   ]
  },
  {
   "cell_type": "markdown",
   "id": "cf9d640b",
   "metadata": {},
   "source": [
    "### Import libraries"
   ]
  },
  {
   "cell_type": "code",
   "execution_count": 89,
   "id": "0b15285c",
   "metadata": {},
   "outputs": [],
   "source": [
    "import pandas as pd\n",
    "import numpy as np\n",
    "import seaborn as sns\n",
    "import string\n",
    "import matplotlib.pyplot as plt"
   ]
  },
  {
   "cell_type": "markdown",
   "id": "bee06e87",
   "metadata": {},
   "source": [
    "### General view of the dataset"
   ]
  },
  {
   "cell_type": "code",
   "execution_count": 90,
   "id": "b0de88ae",
   "metadata": {},
   "outputs": [],
   "source": [
    "df = pd.read_csv('spam_1.csv')"
   ]
  },
  {
   "cell_type": "code",
   "execution_count": 91,
   "id": "8327e3d0",
   "metadata": {},
   "outputs": [
    {
     "data": {
      "text/html": [
       "<div>\n",
       "<style scoped>\n",
       "    .dataframe tbody tr th:only-of-type {\n",
       "        vertical-align: middle;\n",
       "    }\n",
       "\n",
       "    .dataframe tbody tr th {\n",
       "        vertical-align: top;\n",
       "    }\n",
       "\n",
       "    .dataframe thead th {\n",
       "        text-align: right;\n",
       "    }\n",
       "</style>\n",
       "<table border=\"1\" class=\"dataframe\">\n",
       "  <thead>\n",
       "    <tr style=\"text-align: right;\">\n",
       "      <th></th>\n",
       "      <th>v1</th>\n",
       "      <th>v2</th>\n",
       "      <th>Unnamed: 2</th>\n",
       "      <th>Unnamed: 3</th>\n",
       "      <th>Unnamed: 4</th>\n",
       "    </tr>\n",
       "  </thead>\n",
       "  <tbody>\n",
       "    <tr>\n",
       "      <th>0</th>\n",
       "      <td>ham</td>\n",
       "      <td>Go until jurong point, crazy.. Available only ...</td>\n",
       "      <td>NaN</td>\n",
       "      <td>NaN</td>\n",
       "      <td>NaN</td>\n",
       "    </tr>\n",
       "    <tr>\n",
       "      <th>1</th>\n",
       "      <td>ham</td>\n",
       "      <td>Ok lar... Joking wif u oni...</td>\n",
       "      <td>NaN</td>\n",
       "      <td>NaN</td>\n",
       "      <td>NaN</td>\n",
       "    </tr>\n",
       "    <tr>\n",
       "      <th>2</th>\n",
       "      <td>spam</td>\n",
       "      <td>Free entry in 2 a wkly comp to win FA Cup fina...</td>\n",
       "      <td>NaN</td>\n",
       "      <td>NaN</td>\n",
       "      <td>NaN</td>\n",
       "    </tr>\n",
       "    <tr>\n",
       "      <th>3</th>\n",
       "      <td>ham</td>\n",
       "      <td>U dun say so early hor... U c already then say...</td>\n",
       "      <td>NaN</td>\n",
       "      <td>NaN</td>\n",
       "      <td>NaN</td>\n",
       "    </tr>\n",
       "    <tr>\n",
       "      <th>4</th>\n",
       "      <td>ham</td>\n",
       "      <td>Nah I don't think he goes to usf, he lives aro...</td>\n",
       "      <td>NaN</td>\n",
       "      <td>NaN</td>\n",
       "      <td>NaN</td>\n",
       "    </tr>\n",
       "  </tbody>\n",
       "</table>\n",
       "</div>"
      ],
      "text/plain": [
       "     v1                                                 v2 Unnamed: 2  \\\n",
       "0   ham  Go until jurong point, crazy.. Available only ...        NaN   \n",
       "1   ham                      Ok lar... Joking wif u oni...        NaN   \n",
       "2  spam  Free entry in 2 a wkly comp to win FA Cup fina...        NaN   \n",
       "3   ham  U dun say so early hor... U c already then say...        NaN   \n",
       "4   ham  Nah I don't think he goes to usf, he lives aro...        NaN   \n",
       "\n",
       "  Unnamed: 3 Unnamed: 4  \n",
       "0        NaN        NaN  \n",
       "1        NaN        NaN  \n",
       "2        NaN        NaN  \n",
       "3        NaN        NaN  \n",
       "4        NaN        NaN  "
      ]
     },
     "execution_count": 91,
     "metadata": {},
     "output_type": "execute_result"
    }
   ],
   "source": [
    "df.head()"
   ]
  },
  {
   "cell_type": "code",
   "execution_count": 92,
   "id": "e6d710a6",
   "metadata": {},
   "outputs": [
    {
     "data": {
      "text/plain": [
       "(5572, 5)"
      ]
     },
     "execution_count": 92,
     "metadata": {},
     "output_type": "execute_result"
    }
   ],
   "source": [
    "df.shape"
   ]
  },
  {
   "cell_type": "markdown",
   "id": "adceb753",
   "metadata": {},
   "source": [
    "There are `5572` data points and `5` columns: `v1`, `v2`, `Unnamed: 2`,\t`Unnamed: 3`, `Unnamed: 4`\n"
   ]
  },
  {
   "cell_type": "markdown",
   "id": "77135563",
   "metadata": {},
   "source": [
    "#### Drop `Unnamed: 2`,\t`Unnamed: 3`, `Unnamed: 4` since they are irrelevant"
   ]
  },
  {
   "cell_type": "code",
   "execution_count": 93,
   "id": "6aa8c1b4",
   "metadata": {},
   "outputs": [],
   "source": [
    "# delete 3 unnamed columns\n",
    "df = df.drop(['Unnamed: 2', 'Unnamed: 3', 'Unnamed: 4'], axis=1)"
   ]
  },
  {
   "cell_type": "markdown",
   "id": "890ea6e8",
   "metadata": {},
   "source": [
    "#### Rename `v1` to `Category` and `v2` to `Message`"
   ]
  },
  {
   "cell_type": "code",
   "execution_count": 94,
   "id": "ad92e005",
   "metadata": {},
   "outputs": [],
   "source": [
    "df = df.rename(columns={\"v1\": \"Label\", \"v2\": \"Message\"})"
   ]
  },
  {
   "cell_type": "code",
   "execution_count": 95,
   "id": "3054fcaa",
   "metadata": {},
   "outputs": [
    {
     "data": {
      "text/html": [
       "<div>\n",
       "<style scoped>\n",
       "    .dataframe tbody tr th:only-of-type {\n",
       "        vertical-align: middle;\n",
       "    }\n",
       "\n",
       "    .dataframe tbody tr th {\n",
       "        vertical-align: top;\n",
       "    }\n",
       "\n",
       "    .dataframe thead th {\n",
       "        text-align: right;\n",
       "    }\n",
       "</style>\n",
       "<table border=\"1\" class=\"dataframe\">\n",
       "  <thead>\n",
       "    <tr style=\"text-align: right;\">\n",
       "      <th></th>\n",
       "      <th>Label</th>\n",
       "      <th>Message</th>\n",
       "    </tr>\n",
       "  </thead>\n",
       "  <tbody>\n",
       "    <tr>\n",
       "      <th>0</th>\n",
       "      <td>ham</td>\n",
       "      <td>Go until jurong point, crazy.. Available only ...</td>\n",
       "    </tr>\n",
       "    <tr>\n",
       "      <th>1</th>\n",
       "      <td>ham</td>\n",
       "      <td>Ok lar... Joking wif u oni...</td>\n",
       "    </tr>\n",
       "    <tr>\n",
       "      <th>2</th>\n",
       "      <td>spam</td>\n",
       "      <td>Free entry in 2 a wkly comp to win FA Cup fina...</td>\n",
       "    </tr>\n",
       "    <tr>\n",
       "      <th>3</th>\n",
       "      <td>ham</td>\n",
       "      <td>U dun say so early hor... U c already then say...</td>\n",
       "    </tr>\n",
       "    <tr>\n",
       "      <th>4</th>\n",
       "      <td>ham</td>\n",
       "      <td>Nah I don't think he goes to usf, he lives aro...</td>\n",
       "    </tr>\n",
       "  </tbody>\n",
       "</table>\n",
       "</div>"
      ],
      "text/plain": [
       "  Label                                            Message\n",
       "0   ham  Go until jurong point, crazy.. Available only ...\n",
       "1   ham                      Ok lar... Joking wif u oni...\n",
       "2  spam  Free entry in 2 a wkly comp to win FA Cup fina...\n",
       "3   ham  U dun say so early hor... U c already then say...\n",
       "4   ham  Nah I don't think he goes to usf, he lives aro..."
      ]
     },
     "execution_count": 95,
     "metadata": {},
     "output_type": "execute_result"
    }
   ],
   "source": [
    "df.head()"
   ]
  },
  {
   "cell_type": "markdown",
   "id": "517ae8c6",
   "metadata": {},
   "source": [
    "#### Check for missing values "
   ]
  },
  {
   "cell_type": "code",
   "execution_count": 96,
   "id": "1ae555bf",
   "metadata": {},
   "outputs": [
    {
     "data": {
      "text/plain": [
       "Label      0\n",
       "Message    0\n",
       "dtype: int64"
      ]
     },
     "execution_count": 96,
     "metadata": {},
     "output_type": "execute_result"
    }
   ],
   "source": [
    "# check null\n",
    "df.isnull().sum()"
   ]
  },
  {
   "cell_type": "markdown",
   "id": "38d0cd93",
   "metadata": {},
   "source": [
    "#### Check for duplicates"
   ]
  },
  {
   "cell_type": "code",
   "execution_count": 97,
   "id": "f15f158c",
   "metadata": {},
   "outputs": [],
   "source": [
    "# drop duplicates\n",
    "df.drop_duplicates(inplace=True)"
   ]
  },
  {
   "cell_type": "code",
   "execution_count": 98,
   "id": "45ffaed2",
   "metadata": {},
   "outputs": [
    {
     "data": {
      "text/plain": [
       "(5169, 2)"
      ]
     },
     "execution_count": 98,
     "metadata": {},
     "output_type": "execute_result"
    }
   ],
   "source": [
    "df.shape"
   ]
  },
  {
   "cell_type": "markdown",
   "id": "cf3d20c1",
   "metadata": {},
   "source": [
    "After dropping duplicates, the dataset goes from `5572` to `5169` rows"
   ]
  },
  {
   "cell_type": "markdown",
   "id": "9f3455c7",
   "metadata": {},
   "source": [
    "## Data preprocessing"
   ]
  },
  {
   "cell_type": "markdown",
   "id": "f7a95f90",
   "metadata": {},
   "source": [
    "### Remove special character"
   ]
  },
  {
   "cell_type": "code",
   "execution_count": 99,
   "id": "73ff8cf1",
   "metadata": {},
   "outputs": [],
   "source": [
    "punctuation = string.punctuation\n",
    "def remove_punctuation(text):\n",
    "    return text.translate(str.maketrans('', '', punctuation))"
   ]
  },
  {
   "cell_type": "code",
   "execution_count": 100,
   "id": "2f1c01a0",
   "metadata": {},
   "outputs": [
    {
     "data": {
      "text/html": [
       "<div>\n",
       "<style scoped>\n",
       "    .dataframe tbody tr th:only-of-type {\n",
       "        vertical-align: middle;\n",
       "    }\n",
       "\n",
       "    .dataframe tbody tr th {\n",
       "        vertical-align: top;\n",
       "    }\n",
       "\n",
       "    .dataframe thead th {\n",
       "        text-align: right;\n",
       "    }\n",
       "</style>\n",
       "<table border=\"1\" class=\"dataframe\">\n",
       "  <thead>\n",
       "    <tr style=\"text-align: right;\">\n",
       "      <th></th>\n",
       "      <th>Label</th>\n",
       "      <th>Message</th>\n",
       "    </tr>\n",
       "  </thead>\n",
       "  <tbody>\n",
       "    <tr>\n",
       "      <th>0</th>\n",
       "      <td>ham</td>\n",
       "      <td>Go until jurong point crazy Available only in ...</td>\n",
       "    </tr>\n",
       "    <tr>\n",
       "      <th>1</th>\n",
       "      <td>ham</td>\n",
       "      <td>Ok lar Joking wif u oni</td>\n",
       "    </tr>\n",
       "    <tr>\n",
       "      <th>2</th>\n",
       "      <td>spam</td>\n",
       "      <td>Free entry in 2 a wkly comp to win FA Cup fina...</td>\n",
       "    </tr>\n",
       "    <tr>\n",
       "      <th>3</th>\n",
       "      <td>ham</td>\n",
       "      <td>U dun say so early hor U c already then say</td>\n",
       "    </tr>\n",
       "    <tr>\n",
       "      <th>4</th>\n",
       "      <td>ham</td>\n",
       "      <td>Nah I dont think he goes to usf he lives aroun...</td>\n",
       "    </tr>\n",
       "  </tbody>\n",
       "</table>\n",
       "</div>"
      ],
      "text/plain": [
       "  Label                                            Message\n",
       "0   ham  Go until jurong point crazy Available only in ...\n",
       "1   ham                            Ok lar Joking wif u oni\n",
       "2  spam  Free entry in 2 a wkly comp to win FA Cup fina...\n",
       "3   ham        U dun say so early hor U c already then say\n",
       "4   ham  Nah I dont think he goes to usf he lives aroun..."
      ]
     },
     "execution_count": 100,
     "metadata": {},
     "output_type": "execute_result"
    }
   ],
   "source": [
    "df[\"Message\"] = df[\"Message\"].apply(lambda text: remove_punctuation(text))\n",
    "df.head()"
   ]
  },
  {
   "cell_type": "markdown",
   "id": "591181c9",
   "metadata": {},
   "source": [
    "### Remove stopwords"
   ]
  },
  {
   "cell_type": "markdown",
   "id": "4250b7c1",
   "metadata": {},
   "source": [
    "#### Install `nltk` (Natural Language Toolkit) "
   ]
  },
  {
   "cell_type": "code",
   "execution_count": 37,
   "id": "0fbd6a9d",
   "metadata": {},
   "outputs": [
    {
     "name": "stdout",
     "output_type": "stream",
     "text": [
      "Requirement already satisfied: nltk in c:\\users\\nguye\\anaconda3\\lib\\site-packages (3.8.1)Note: you may need to restart the kernel to use updated packages.\n",
      "\n",
      "Requirement already satisfied: click in c:\\users\\nguye\\anaconda3\\lib\\site-packages (from nltk) (8.0.4)\n",
      "Requirement already satisfied: joblib in c:\\users\\nguye\\anaconda3\\lib\\site-packages (from nltk) (1.2.0)\n",
      "Requirement already satisfied: regex>=2021.8.3 in c:\\users\\nguye\\anaconda3\\lib\\site-packages (from nltk) (2022.7.9)\n",
      "Requirement already satisfied: tqdm in c:\\users\\nguye\\anaconda3\\lib\\site-packages (from nltk) (4.65.0)\n",
      "Requirement already satisfied: colorama in c:\\users\\nguye\\anaconda3\\lib\\site-packages (from click->nltk) (0.4.6)\n"
     ]
    }
   ],
   "source": [
    "# pip install nltk"
   ]
  },
  {
   "cell_type": "code",
   "execution_count": 38,
   "id": "cf820113",
   "metadata": {},
   "outputs": [
    {
     "name": "stderr",
     "output_type": "stream",
     "text": [
      "[nltk_data] Downloading package stopwords to\n",
      "[nltk_data]     C:\\Users\\nguye\\AppData\\Roaming\\nltk_data...\n",
      "[nltk_data]   Package stopwords is already up-to-date!\n"
     ]
    },
    {
     "data": {
      "text/plain": [
       "True"
      ]
     },
     "execution_count": 38,
     "metadata": {},
     "output_type": "execute_result"
    }
   ],
   "source": [
    "import nltk\n",
    "\n",
    "nltk.download('stopwords')"
   ]
  },
  {
   "cell_type": "markdown",
   "id": "6ff7172f",
   "metadata": {},
   "source": [
    "#### Function to remove stopwords"
   ]
  },
  {
   "cell_type": "code",
   "execution_count": 101,
   "id": "319e3e18",
   "metadata": {},
   "outputs": [],
   "source": [
    "from nltk.corpus import stopwords\n",
    "stop_words = set(stopwords.words('english'))\n",
    "\n",
    "def remove_stopwords(text):\n",
    "    return \" \".join([word for word in str(text).split() if word not in stop_words])"
   ]
  },
  {
   "cell_type": "code",
   "execution_count": 102,
   "id": "e9da8eda",
   "metadata": {},
   "outputs": [
    {
     "data": {
      "text/html": [
       "<div>\n",
       "<style scoped>\n",
       "    .dataframe tbody tr th:only-of-type {\n",
       "        vertical-align: middle;\n",
       "    }\n",
       "\n",
       "    .dataframe tbody tr th {\n",
       "        vertical-align: top;\n",
       "    }\n",
       "\n",
       "    .dataframe thead th {\n",
       "        text-align: right;\n",
       "    }\n",
       "</style>\n",
       "<table border=\"1\" class=\"dataframe\">\n",
       "  <thead>\n",
       "    <tr style=\"text-align: right;\">\n",
       "      <th></th>\n",
       "      <th>Label</th>\n",
       "      <th>Message</th>\n",
       "    </tr>\n",
       "  </thead>\n",
       "  <tbody>\n",
       "    <tr>\n",
       "      <th>0</th>\n",
       "      <td>ham</td>\n",
       "      <td>Go jurong point crazy Available bugis n great ...</td>\n",
       "    </tr>\n",
       "    <tr>\n",
       "      <th>1</th>\n",
       "      <td>ham</td>\n",
       "      <td>Ok lar Joking wif u oni</td>\n",
       "    </tr>\n",
       "    <tr>\n",
       "      <th>2</th>\n",
       "      <td>spam</td>\n",
       "      <td>Free entry 2 wkly comp win FA Cup final tkts 2...</td>\n",
       "    </tr>\n",
       "    <tr>\n",
       "      <th>3</th>\n",
       "      <td>ham</td>\n",
       "      <td>U dun say early hor U c already say</td>\n",
       "    </tr>\n",
       "    <tr>\n",
       "      <th>4</th>\n",
       "      <td>ham</td>\n",
       "      <td>Nah I dont think goes usf lives around though</td>\n",
       "    </tr>\n",
       "  </tbody>\n",
       "</table>\n",
       "</div>"
      ],
      "text/plain": [
       "  Label                                            Message\n",
       "0   ham  Go jurong point crazy Available bugis n great ...\n",
       "1   ham                            Ok lar Joking wif u oni\n",
       "2  spam  Free entry 2 wkly comp win FA Cup final tkts 2...\n",
       "3   ham                U dun say early hor U c already say\n",
       "4   ham      Nah I dont think goes usf lives around though"
      ]
     },
     "execution_count": 102,
     "metadata": {},
     "output_type": "execute_result"
    }
   ],
   "source": [
    "df[\"Message\"] = df[\"Message\"].apply(lambda text: remove_stopwords(text))\n",
    "df.head()"
   ]
  },
  {
   "cell_type": "markdown",
   "id": "63087b73",
   "metadata": {},
   "source": [
    "### Lemmatizing words"
   ]
  },
  {
   "cell_type": "code",
   "execution_count": 41,
   "id": "91dfc88f",
   "metadata": {},
   "outputs": [
    {
     "name": "stderr",
     "output_type": "stream",
     "text": [
      "[nltk_data] Downloading package wordnet to\n",
      "[nltk_data]     C:\\Users\\nguye\\AppData\\Roaming\\nltk_data...\n",
      "[nltk_data]   Package wordnet is already up-to-date!\n"
     ]
    },
    {
     "data": {
      "text/plain": [
       "True"
      ]
     },
     "execution_count": 41,
     "metadata": {},
     "output_type": "execute_result"
    }
   ],
   "source": [
    "import nltk\n",
    "\n",
    "nltk.download('wordnet')"
   ]
  },
  {
   "cell_type": "markdown",
   "id": "8eab106f",
   "metadata": {},
   "source": [
    "#### Function to lemmatize the text"
   ]
  },
  {
   "cell_type": "code",
   "execution_count": 103,
   "id": "8311281a",
   "metadata": {},
   "outputs": [],
   "source": [
    "from nltk.stem import WordNetLemmatizer\n",
    "from nltk.corpus import wordnet\n",
    "from nltk import pos_tag\n",
    "\n",
    "# pos_text: Part of speech, assign a tag to each token in a document to denote its part of speech\n",
    "\n",
    "wordnet_map = {\"N\":  wordnet.NOUN, \"V\": wordnet.VERB, \"J\": wordnet.ADJ, \"R\": wordnet.ADV}\n",
    "lemmatizer = WordNetLemmatizer()\n",
    "\n",
    "def lemmatize_words(text):\n",
    "    pos_text = pos_tag(text.split())\n",
    "    return \" \".join([lemmatizer.lemmatize(word, wordnet_map.get(pos[0], wordnet.NOUN)) for word, pos in pos_text])"
   ]
  },
  {
   "cell_type": "code",
   "execution_count": 104,
   "id": "b7ec8e13",
   "metadata": {},
   "outputs": [
    {
     "data": {
      "text/html": [
       "<div>\n",
       "<style scoped>\n",
       "    .dataframe tbody tr th:only-of-type {\n",
       "        vertical-align: middle;\n",
       "    }\n",
       "\n",
       "    .dataframe tbody tr th {\n",
       "        vertical-align: top;\n",
       "    }\n",
       "\n",
       "    .dataframe thead th {\n",
       "        text-align: right;\n",
       "    }\n",
       "</style>\n",
       "<table border=\"1\" class=\"dataframe\">\n",
       "  <thead>\n",
       "    <tr style=\"text-align: right;\">\n",
       "      <th></th>\n",
       "      <th>Label</th>\n",
       "      <th>Message</th>\n",
       "    </tr>\n",
       "  </thead>\n",
       "  <tbody>\n",
       "    <tr>\n",
       "      <th>0</th>\n",
       "      <td>ham</td>\n",
       "      <td>Go jurong point crazy Available bugis n great ...</td>\n",
       "    </tr>\n",
       "    <tr>\n",
       "      <th>1</th>\n",
       "      <td>ham</td>\n",
       "      <td>Ok lar Joking wif u oni</td>\n",
       "    </tr>\n",
       "    <tr>\n",
       "      <th>2</th>\n",
       "      <td>spam</td>\n",
       "      <td>Free entry 2 wkly comp win FA Cup final tkts 2...</td>\n",
       "    </tr>\n",
       "    <tr>\n",
       "      <th>3</th>\n",
       "      <td>ham</td>\n",
       "      <td>U dun say early hor U c already say</td>\n",
       "    </tr>\n",
       "    <tr>\n",
       "      <th>4</th>\n",
       "      <td>ham</td>\n",
       "      <td>Nah I dont think go usf life around though</td>\n",
       "    </tr>\n",
       "  </tbody>\n",
       "</table>\n",
       "</div>"
      ],
      "text/plain": [
       "  Label                                            Message\n",
       "0   ham  Go jurong point crazy Available bugis n great ...\n",
       "1   ham                            Ok lar Joking wif u oni\n",
       "2  spam  Free entry 2 wkly comp win FA Cup final tkts 2...\n",
       "3   ham                U dun say early hor U c already say\n",
       "4   ham         Nah I dont think go usf life around though"
      ]
     },
     "execution_count": 104,
     "metadata": {},
     "output_type": "execute_result"
    }
   ],
   "source": [
    "df[\"Message\"] = df[\"Message\"].apply(lambda text: lemmatize_words(text))\n",
    "df.head()"
   ]
  },
  {
   "cell_type": "markdown",
   "id": "697b6cf7",
   "metadata": {},
   "source": [
    "### Check label's distribution of target vector `Category` to determine whether unbalanced or not"
   ]
  },
  {
   "cell_type": "code",
   "execution_count": 105,
   "id": "a84c9d49",
   "metadata": {},
   "outputs": [
    {
     "data": {
      "image/png": "[encoded data removed]",
      "text/plain": [
       "<Figure size 640x480 with 1 Axes>"
      ]
     },
     "metadata": {},
     "output_type": "display_data"
    }
   ],
   "source": [
    "sns.countplot(x=\"Label\", data=df)\n",
    "plt.savefig('label_count')"
   ]
  },
  {
   "cell_type": "code",
   "execution_count": 106,
   "id": "9bac8087",
   "metadata": {},
   "outputs": [
    {
     "data": {
      "text/plain": [
       "Label\n",
       "ham     4516\n",
       "spam     653\n",
       "Name: count, dtype: int64"
      ]
     },
     "execution_count": 106,
     "metadata": {},
     "output_type": "execute_result"
    }
   ],
   "source": [
    "df['Label'].value_counts()"
   ]
  },
  {
   "cell_type": "markdown",
   "id": "78c347a7",
   "metadata": {},
   "source": [
    "The labels are unbalanced with **87%** are ham and **13%** are spam"
   ]
  },
  {
   "cell_type": "markdown",
   "id": "fd741d4d",
   "metadata": {},
   "source": [
    "## Split data"
   ]
  },
  {
   "cell_type": "code",
   "execution_count": 107,
   "id": "acfaa744",
   "metadata": {},
   "outputs": [],
   "source": [
    "X = df['Message']\n",
    "y = df['Label']"
   ]
  },
  {
   "cell_type": "markdown",
   "id": "9accc37a",
   "metadata": {},
   "source": [
    "Since there's unbalanced in class lables, **stratified partitioning** will be used because it ensures that every partition preserves the same ratio of values for the prediction target as in the original data"
   ]
  },
  {
   "cell_type": "code",
   "execution_count": 108,
   "id": "559523c4",
   "metadata": {},
   "outputs": [],
   "source": [
    "from sklearn.model_selection import train_test_split\n",
    "\n",
    "# split data into training and testing\n",
    "X_train, X_test, y_train, y_test = train_test_split(X, y, test_size=0.2, random_state=42, stratify=y)"
   ]
  },
  {
   "cell_type": "code",
   "execution_count": 109,
   "id": "bdae090f",
   "metadata": {},
   "outputs": [
    {
     "name": "stdout",
     "output_type": "stream",
     "text": [
      "(4135,) (1034,) (4135,) (1034,)\n"
     ]
    }
   ],
   "source": [
    "print(X_train.shape, X_test.shape, y_train.shape, y_test.shape)"
   ]
  },
  {
   "cell_type": "markdown",
   "id": "f3c1a393",
   "metadata": {},
   "source": [
    "## Training models"
   ]
  },
  {
   "cell_type": "markdown",
   "id": "d211dd82",
   "metadata": {},
   "source": [
    "### Import models from scikit-learn"
   ]
  },
  {
   "cell_type": "code",
   "execution_count": 110,
   "id": "734bb683",
   "metadata": {},
   "outputs": [],
   "source": [
    "# base models\n",
    "from sklearn.linear_model import LogisticRegression\n",
    "from sklearn.neighbors import KNeighborsClassifier\n",
    "from sklearn.svm import SVC\n",
    "from sklearn.naive_bayes import GaussianNB\n",
    "from sklearn.ensemble import RandomForestClassifier\n",
    "from sklearn.tree import DecisionTreeClassifier\n",
    "\n",
    "# meta model\n",
    "from sklearn.ensemble import GradientBoostingClassifier"
   ]
  },
  {
   "cell_type": "markdown",
   "id": "5174dfe1",
   "metadata": {},
   "source": [
    "### Initialize TfidfVectorizer"
   ]
  },
  {
   "cell_type": "code",
   "execution_count": 111,
   "id": "78069ba5",
   "metadata": {},
   "outputs": [],
   "source": [
    "from sklearn.feature_extraction.text import TfidfVectorizer\n",
    "\n",
    "tf = TfidfVectorizer()"
   ]
  },
  {
   "cell_type": "markdown",
   "id": "84d26258",
   "metadata": {},
   "source": [
    "### Import  `Kfold`,  `cross_val_score`, `Pipeline`"
   ]
  },
  {
   "cell_type": "code",
   "execution_count": 112,
   "id": "fd15add7",
   "metadata": {},
   "outputs": [],
   "source": [
    "from sklearn.model_selection import KFold\n",
    "from sklearn.model_selection import cross_val_score, cross_validate\n",
    "from sklearn.pipeline import Pipeline\n",
    "\n",
    "kfold = KFold(n_splits=5, shuffle=True, random_state=42)"
   ]
  },
  {
   "cell_type": "markdown",
   "id": "59cb0bda",
   "metadata": {},
   "source": [
    "### Create pipelines for base models and define baseline performance (training set) with `cross_val_score`"
   ]
  },
  {
   "cell_type": "markdown",
   "id": "73be71e4",
   "metadata": {},
   "source": [
    "### Pipelines"
   ]
  },
  {
   "cell_type": "code",
   "execution_count": 113,
   "id": "0aa07ccb",
   "metadata": {},
   "outputs": [],
   "source": [
    "# initialize LR model\n",
    "lr = LogisticRegression()\n",
    "lr_pl = Pipeline([('tf', TfidfVectorizer()), ('lr', lr)]) # initialize LR pipeline \n",
    "\n",
    "# initialize KNN model\n",
    "knn = KNeighborsClassifier()\n",
    "knn_pl = Pipeline([('tf', TfidfVectorizer()), ('knn', knn)]) # initialize KNN pipeline \n",
    "\n",
    "# initialize SVM model\n",
    "svc = SVC()\n",
    "svc_pl = Pipeline([('tf', TfidfVectorizer()), ('svc', svc)]) # initialize SVM pipeline \n",
    "\n",
    "# initialize NB model\n",
    "nb = GaussianNB()\n",
    "nb_pl = Pipeline([('tf', TfidfVectorizer()), ('nb', nb)]) # initialize NB pipeline \n",
    "\n",
    "# initialize RF model\n",
    "rf = RandomForestClassifier()\n",
    "rf_pl = Pipeline([('tf', TfidfVectorizer()), ('rf', rf)]) # initialize RF pipeline \n",
    "\n",
    "# initialize DT model\n",
    "dt = DecisionTreeClassifier()\n",
    "dt_pl = Pipeline([('tf', TfidfVectorizer()), ('dt', dt)])  # initialize DT pipeline \n"
   ]
  },
  {
   "cell_type": "code",
   "execution_count": 114,
   "id": "962918e9",
   "metadata": {},
   "outputs": [],
   "source": [
    "pipelines = [lr_pl, knn_pl, svc_pl, rf_pl, dt_pl]\n",
    "\n",
    "pipe_dict = {0: 'Logistic Regression', 1: 'K Nearest Neighbor', 2: 'Support Vector Machine',\n",
    "             3: 'Random Forrest', 4: 'Decision Tree'}"
   ]
  },
  {
   "cell_type": "markdown",
   "id": "16bc30a9",
   "metadata": {},
   "source": [
    "#### Cross validate for all based models except Naive Bayes (due to sparse matrix error)"
   ]
  },
  {
   "cell_type": "code",
   "execution_count": 115,
   "id": "924eb14e",
   "metadata": {},
   "outputs": [
    {
     "name": "stdout",
     "output_type": "stream",
     "text": [
      "Logistic Regression\n",
      "fit_time 0.11730585098266602\n",
      "score_time 0.017934846878051757\n",
      "test_score 0.9547762998790811\n",
      "train_score 0.9558645707376059\n",
      "\n",
      "\n",
      "K Nearest Neighbor\n",
      "fit_time 0.0517371654510498\n",
      "score_time 0.18254318237304687\n",
      "test_score 0.9110036275695285\n",
      "train_score 0.9167472793228537\n",
      "\n",
      "\n",
      "Support Vector Machine\n",
      "fit_time 1.1653573989868165\n",
      "score_time 0.19743766784667968\n",
      "test_score 0.9724304715840386\n",
      "train_score 0.9976420798065296\n",
      "\n",
      "\n",
      "Random Forrest\n",
      "fit_time 4.288489866256714\n",
      "score_time 0.0689664363861084\n",
      "test_score 0.966142684401451\n",
      "train_score 1.0\n",
      "\n",
      "\n",
      "Decision Tree\n",
      "fit_time 1.2534337043762207\n",
      "score_time 0.022873592376708985\n",
      "test_score 0.9405078597339782\n",
      "train_score 1.0\n",
      "\n",
      "\n"
     ]
    }
   ],
   "source": [
    "for i in range(len(pipelines)):\n",
    "    score = cross_validate(pipelines[i], X_train, y_train,\n",
    "                          cv=kfold, scoring='accuracy',\n",
    "                          return_train_score=True)\n",
    "    print(pipe_dict[i])\n",
    "    for k, v in score.items():\n",
    "        print(k, np.mean(v))\n",
    "    print('\\n')"
   ]
  },
  {
   "cell_type": "markdown",
   "id": "25f0ec56",
   "metadata": {},
   "source": [
    "#### Cross validate for Naive Bayes"
   ]
  },
  {
   "cell_type": "code",
   "execution_count": 116,
   "id": "33e43658",
   "metadata": {},
   "outputs": [
    {
     "name": "stdout",
     "output_type": "stream",
     "text": [
      "Naive Bayes\n",
      "fit_time 0.5920812129974365\n",
      "score_time 0.19148168563842774\n",
      "test_score 0.8836759371221282\n",
      "train_score 0.9530229746070132\n"
     ]
    }
   ],
   "source": [
    "# for NB\n",
    "nb_test = GaussianNB()\n",
    "X_train_tf = tf.fit_transform(X_train)\n",
    "X_test_tf = tf.transform(X_test)\n",
    "\n",
    "X_train_tf_arr = X_train_tf.toarray()\n",
    "X_test_tf_arr = X_test_tf.toarray()\n",
    "\n",
    "nb_score = cross_validate(nb_test, X_train_tf_arr, y_train,\n",
    "                          cv=kfold, scoring='accuracy',\n",
    "                          return_train_score=True)\n",
    "print('Naive Bayes')\n",
    "for k, v in nb_score.items():\n",
    "    print(k, np.mean(v))"
   ]
  },
  {
   "cell_type": "code",
   "execution_count": 56,
   "id": "967b039a",
   "metadata": {},
   "outputs": [],
   "source": [
    "# lr_score = cross_validate(lr_pl, X_train, y_train, \n",
    "#                           cv=kfold, scoring='accuracy',\n",
    "#                           return_train_score=True)\n",
    "\n",
    "# print('score', lr_score['train_score'])\n",
    "\n",
    "# for reference\n",
    "# for pipe in pipelines:\n",
    "#   pipe.fit(X_train, y_train)\n",
    "# for i,model in enumerate(pipelines):\n",
    "#     print(\"{} Test Accuracy:{}\".format(pipe_dict[i],model.score(X_test,y_test)))"
   ]
  },
  {
   "cell_type": "markdown",
   "id": "f1bb32f4",
   "metadata": {},
   "source": [
    "### Summary of the model's baseline performances (train_score focus)"
   ]
  },
  {
   "cell_type": "code",
   "execution_count": 57,
   "id": "e005bd23",
   "metadata": {},
   "outputs": [
    {
     "data": {
      "text/plain": [
       "'\\nLogistic Regression\\nfit_time 0.07664504051208496\\nscore_time 0.010643911361694337\\ntest_score 0.9547762998790811\\ntrain_score 0.9558645707376059\\n\\n\\nK Nearest Neighbor\\nfit_time 0.03852005004882812\\nscore_time 0.12582459449768066\\ntest_score 0.9110036275695285\\ntrain_score 0.9167472793228537\\n\\n\\nSupport Vector Machine\\nfit_time 0.6906114101409913\\nscore_time 0.12343502044677734\\ntest_score 0.9724304715840386\\ntrain_score 0.9976420798065296\\n\\n\\nRandom Forrest\\nfit_time 2.5601289749145506\\nscore_time 0.041787338256835935\\ntest_score 0.965659008464329\\ntrain_score 0.9999395405078598\\n\\n\\nDecision Tree\\nfit_time 0.5993952274322509\\nscore_time 0.009748601913452148\\ntest_score 0.9402660217654171\\ntrain_score 1.0\\n\\n# reference\\nparam = {\\'max_depth\\': [4,6,8,10], \\n         \\'subsample\\': [0.5, 0.75, 1.0], \\n         \\'min_samples_leaf\\': [50, 60, 70]}\\n\\ngrid = GridSearchCV(clf, param, cv=kfold, scoring=\"roc_auc\", n_jobs=-1).fit(X_train_new_df, y_train)\\n\\nprint(\\'random best score: \\', grid.best_score_)\\nprint(\\'random best param: \\', grid.best_params_)\\n'"
      ]
     },
     "execution_count": 57,
     "metadata": {},
     "output_type": "execute_result"
    }
   ],
   "source": [
    "\"\"\"\n",
    "Logistic Regression\n",
    "fit_time 0.07664504051208496\n",
    "score_time 0.010643911361694337\n",
    "test_score 0.9547762998790811\n",
    "train_score 0.9558645707376059\n",
    "\n",
    "\n",
    "K Nearest Neighbor\n",
    "fit_time 0.03852005004882812\n",
    "score_time 0.12582459449768066\n",
    "test_score 0.9110036275695285\n",
    "train_score 0.9167472793228537\n",
    "\n",
    "\n",
    "Support Vector Machine\n",
    "fit_time 0.6906114101409913\n",
    "score_time 0.12343502044677734\n",
    "test_score 0.9724304715840386\n",
    "train_score 0.9976420798065296\n",
    "\n",
    "\n",
    "Random Forrest\n",
    "fit_time 2.5601289749145506\n",
    "score_time 0.041787338256835935\n",
    "test_score 0.965659008464329\n",
    "train_score 0.9999395405078598\n",
    "\n",
    "\n",
    "Decision Tree\n",
    "fit_time 0.5993952274322509\n",
    "score_time 0.009748601913452148\n",
    "test_score 0.9402660217654171\n",
    "train_score 1.0\n",
    "\n",
    "# reference\n",
    "param = {'max_depth': [4,6,8,10], \n",
    "         'subsample': [0.5, 0.75, 1.0], \n",
    "         'min_samples_leaf': [50, 60, 70]}\n",
    "\n",
    "grid = GridSearchCV(clf, param, cv=kfold, scoring=\"roc_auc\", n_jobs=-1).fit(X_train_new_df, y_train)\n",
    "\n",
    "print('random best score: ', grid.best_score_)\n",
    "print('random best param: ', grid.best_params_)\n",
    "\"\"\""
   ]
  },
  {
   "cell_type": "markdown",
   "id": "bb5f6b16",
   "metadata": {},
   "source": [
    "### Apply GridSearch/RandomizedSearchCV? to tune hyperparameters"
   ]
  },
  {
   "cell_type": "code",
   "execution_count": 117,
   "id": "40aaf7d3",
   "metadata": {},
   "outputs": [],
   "source": [
    "from sklearn.model_selection import GridSearchCV\n",
    "from sklearn.model_selection import RandomizedSearchCV"
   ]
  },
  {
   "cell_type": "code",
   "execution_count": 118,
   "id": "f60a0512",
   "metadata": {},
   "outputs": [
    {
     "name": "stdout",
     "output_type": "stream",
     "text": [
      "LR random best score:  0.9417170495767836\n",
      "LR random best param:  {'l1_ratio': 0.9, 'penalty': 'elasticnet', 'solver': 'saga'}\n"
     ]
    }
   ],
   "source": [
    "# search for LR\n",
    "lr_param = {'penalty': [\"elasticnet\"], \n",
    "            'solver': [\"saga\"],\n",
    "            'l1_ratio': [0.5, 0.7, 0.9]\n",
    "           }\n",
    "lr_search = GridSearchCV(lr, lr_param, cv=kfold, n_jobs=-1, scoring=\"accuracy\").fit(X_train_tf, y_train)\n",
    "print('LR random best score: ', lr_search.best_score_)\n",
    "print('LR random best param: ', lr_search.best_params_)"
   ]
  },
  {
   "cell_type": "code",
   "execution_count": 119,
   "id": "41b459f0",
   "metadata": {},
   "outputs": [
    {
     "name": "stdout",
     "output_type": "stream",
     "text": [
      "KNN random best score:  0.939782345828295\n",
      "KNN random best param:  {'metric': 'euclidean', 'n_neighbors': 9, 'weights': 'distance'}\n"
     ]
    }
   ],
   "source": [
    "# search for KNN\n",
    "knn_param = {'weights': ['uniform', 'distance'],\n",
    "             'metric': ['euclidean', 'manhattan'],\n",
    "             'n_neighbors': [1, 5, 9]\n",
    "            }\n",
    "knn_search = GridSearchCV(knn, knn_param, cv=kfold, n_jobs=-1, scoring=\"accuracy\").fit(X_train_tf, y_train)\n",
    "print('KNN random best score: ', knn_search.best_score_)\n",
    "print('KNN random best param: ', knn_search.best_params_)"
   ]
  },
  {
   "cell_type": "code",
   "execution_count": 120,
   "id": "ba6b8cdd",
   "metadata": {},
   "outputs": [
    {
     "name": "stdout",
     "output_type": "stream",
     "text": [
      "SVM random best score:  0.9721886336154777\n",
      "SVM random best param:  {'C': 1.0, 'gamma': 'scale', 'kernel': 'sigmoid'}\n"
     ]
    }
   ],
   "source": [
    "# search for SVM  \n",
    "svm_param = {'kernel': ['poly', 'rbf', 'sigmoid'],\n",
    "             'C': [1.0, 0.1, 0.01],\n",
    "             'gamma': ['scale']\n",
    "            }\n",
    "svm_search = GridSearchCV(svc, svm_param, cv=kfold, n_jobs=-1, scoring=\"accuracy\").fit(X_train_tf, y_train)\n",
    "print('SVM random best score: ', svm_search.best_score_)\n",
    "print('SVM random best param: ', svm_search.best_params_)"
   ]
  },
  {
   "cell_type": "code",
   "execution_count": 121,
   "id": "708710ee",
   "metadata": {},
   "outputs": [
    {
     "name": "stdout",
     "output_type": "stream",
     "text": [
      "RF random best score:  0.9516324062877872\n",
      "RF random best param:  {'n_estimators': 100, 'max_features': 'sqrt', 'max_depth': 30}\n"
     ]
    }
   ],
   "source": [
    "# search for RF\n",
    "rf_param = {'n_estimators': [10, 100, 1000],\n",
    "           'max_features': ['sqrt', 'log2'],\n",
    "            'max_depth': [15, 25, 30]\n",
    "           }\n",
    "rf_search = RandomizedSearchCV(rf, rf_param, cv=kfold, n_jobs=-1, scoring=\"accuracy\").fit(X_train_tf, y_train)\n",
    "print('RF random best score: ', rf_search.best_score_)\n",
    "print('RF random best param: ', rf_search.best_params_)"
   ]
  },
  {
   "cell_type": "code",
   "execution_count": 122,
   "id": "04663a05",
   "metadata": {},
   "outputs": [
    {
     "name": "stdout",
     "output_type": "stream",
     "text": [
      "DT random best score:  0.935912938331318\n",
      "DT random best param:  {'criterion': 'entropy', 'max_depth': 5, 'min_samples_leaf': 20}\n"
     ]
    }
   ],
   "source": [
    "# search for DT\n",
    "dt_param = {'max_depth': [5, 10, 20],\n",
    "            'min_samples_leaf': [20, 50, 100],\n",
    "            'criterion': [\"gini\", \"entropy\"]\n",
    "           }\n",
    "dt_search = GridSearchCV(dt, dt_param, cv=kfold, n_jobs=-1, scoring=\"accuracy\").fit(X_train_tf, y_train)\n",
    "print('DT random best score: ', dt_search.best_score_)\n",
    "print('DT random best param: ', dt_search.best_params_)"
   ]
  },
  {
   "cell_type": "code",
   "execution_count": 123,
   "id": "21941adc",
   "metadata": {},
   "outputs": [
    {
     "name": "stdout",
     "output_type": "stream",
     "text": [
      "NB random best score:  0.9151148730350664\n",
      "NB random best param:  {'var_smoothing': 0.005336699231206307}\n"
     ]
    }
   ],
   "source": [
    "# search for NB\n",
    "nb_param = {'var_smoothing': np.logspace(0,-9, num=100)}\n",
    "nb_search = RandomizedSearchCV(nb, nb_param, cv=kfold, n_jobs=-1, scoring=\"accuracy\").fit(X_train_tf_arr, y_train)\n",
    "print('NB random best score: ', nb_search.best_score_)\n",
    "print('NB random best param: ', nb_search.best_params_)"
   ]
  },
  {
   "cell_type": "markdown",
   "id": "155e3dc2",
   "metadata": {},
   "source": [
    "### Get out-of-fold predictions for each tuned model"
   ]
  },
  {
   "cell_type": "code",
   "execution_count": 124,
   "id": "eb19eb5e",
   "metadata": {},
   "outputs": [],
   "source": [
    "# out-of-fold portion\n",
    "# return full_y_pred, full_holdout_pred\n",
    "\n",
    "def out_of_fold(model, X_train_tf, X_test_tf, y_train, y_test, kfold):\n",
    "    # initialize arrays to store predictions\n",
    "    full_y_pred = np.empty((0,))\n",
    "    full_holdout_pred = np.zeros(len(X_test_tf))\n",
    "    \n",
    "    y_train_text = np.array(y_train)\n",
    "    \n",
    "    # create out-of-fold predictions for model stacking\n",
    "    for fold, (train_index, test_index) in enumerate(kfold.split(X_train_tf)):\n",
    "        X_train_fold, X_test_fold = X_train_tf[train_index], X_train_tf[test_index]\n",
    "        y_train_fold, y_test_fold = y_train_text[train_index], y_train_text[test_index]\n",
    "        \n",
    "        # fit model\n",
    "        model.fit(X_train_fold, y_train_fold)\n",
    "\n",
    "        # make predictions on fold test and test sets\n",
    "        y_fold_pred = model.predict_proba(X_test_fold)[:, 1]\n",
    "        holdout_pred = model.predict_proba(X_test_tf)[:, 1]\n",
    "\n",
    "\n",
    "        # extend full_y_pred with fold predictions\n",
    "        full_y_pred = np.concatenate((full_y_pred, y_fold_pred))\n",
    "        full_holdout_pred += holdout_pred\n",
    "        \n",
    "    print('full_y_pred', len(full_y_pred), full_y_pred)\n",
    "    \n",
    "    print('full_holdout_pred', len(full_holdout_pred), full_holdout_pred)\n",
    "    \n",
    "    return (full_y_pred, full_holdout_pred)"
   ]
  },
  {
   "cell_type": "code",
   "execution_count": 125,
   "id": "c3ad5e88",
   "metadata": {},
   "outputs": [
    {
     "name": "stdout",
     "output_type": "stream",
     "text": [
      "full_y_pred 4135 [0.02898947 0.05273751 0.25912139 ... 0.0527942  0.0465776  0.0527942 ]\n",
      "full_holdout_pred 1034 [0.27249824 0.24179839 0.16562689 ... 4.61499662 0.181735   0.19306816]\n",
      "[0.02898947 0.05273751 0.25912139 ... 0.0527942  0.0465776  0.0527942 ] [0.27249824 0.24179839 0.16562689 ... 4.61499662 0.181735   0.19306816]\n"
     ]
    }
   ],
   "source": [
    "# tuned LR\n",
    "lr_best = lr_search.best_params_\n",
    "tuned_lr = LogisticRegression(**lr_best)\n",
    "\n",
    "# lr oof\n",
    "full_lr, holdout_lr = out_of_fold(tuned_lr, X_train_tf_arr, X_test_tf_arr, y_train, y_test, kfold)\n",
    "print(full_lr, holdout_lr)"
   ]
  },
  {
   "cell_type": "code",
   "execution_count": 126,
   "id": "8c919e4c",
   "metadata": {},
   "outputs": [
    {
     "name": "stdout",
     "output_type": "stream",
     "text": [
      "full_y_pred 4135 [0.         0.         0.13610728 ... 0.         0.         0.        ]\n",
      "full_holdout_pred 1034 [0.         0.         0.         ... 3.54673278 0.         0.        ]\n",
      "[0.         0.         0.13610728 ... 0.         0.         0.        ] [0.         0.         0.         ... 3.54673278 0.         0.        ]\n"
     ]
    }
   ],
   "source": [
    "# tuned KNN\n",
    "knn_best = knn_search.best_params_\n",
    "tuned_knn = KNeighborsClassifier(**knn_best)\n",
    "\n",
    "# knn oof\n",
    "full_knn, holdout_knn = out_of_fold(tuned_knn, X_train_tf_arr, X_test_tf_arr, y_train, y_test, kfold)\n",
    "print(full_knn, holdout_knn)"
   ]
  },
  {
   "cell_type": "code",
   "execution_count": 127,
   "id": "0158ecde",
   "metadata": {},
   "outputs": [
    {
     "name": "stdout",
     "output_type": "stream",
     "text": [
      "full_y_pred 4135 [1.58690467e-04 3.65590687e-02 9.43237461e-01 ... 5.86832095e-02\n",
      " 1.62594248e-02 8.48396042e-02]\n",
      "full_holdout_pred 1034 [9.30051751e-03 2.03976213e-03 1.08244242e-02 ... 4.99999998e+00\n",
      " 5.92973113e-02 6.74541224e-02]\n",
      "[1.58690467e-04 3.65590687e-02 9.43237461e-01 ... 5.86832095e-02\n",
      " 1.62594248e-02 8.48396042e-02] [9.30051751e-03 2.03976213e-03 1.08244242e-02 ... 4.99999998e+00\n",
      " 5.92973113e-02 6.74541224e-02]\n"
     ]
    }
   ],
   "source": [
    "# tuned SVC\n",
    "svm_best = svm_search.best_params_\n",
    "tuned_svc = SVC(**svm_best, probability=True)\n",
    "\n",
    "# svm oof\n",
    "full_svm, holdout_svm = out_of_fold(tuned_svc, X_train_tf_arr, X_test_tf_arr, y_train, y_test, kfold)\n",
    "print(full_svm, holdout_svm)"
   ]
  },
  {
   "cell_type": "code",
   "execution_count": 128,
   "id": "52f80f3a",
   "metadata": {},
   "outputs": [
    {
     "name": "stdout",
     "output_type": "stream",
     "text": [
      "full_y_pred 4135 [0.03277402 0.04523031 0.48037929 ... 0.03371075 0.03371075 0.04234466]\n",
      "full_holdout_pred 1034 [0.16958731 0.16281123 0.16281123 ... 4.64505153 0.28961607 0.17052774]\n",
      "[0.03277402 0.04523031 0.48037929 ... 0.03371075 0.03371075 0.04234466] [0.16958731 0.16281123 0.16281123 ... 4.64505153 0.28961607 0.17052774]\n"
     ]
    }
   ],
   "source": [
    "# tuned RF\n",
    "rf_best = rf_search.best_params_\n",
    "tuned_rf = RandomForestClassifier(**rf_best)\n",
    "\n",
    "# RF oof\n",
    "full_rf, holdout_rf = out_of_fold(tuned_rf, X_train_tf_arr, X_test_tf_arr, y_train, y_test, kfold)\n",
    "print(full_rf, holdout_rf)"
   ]
  },
  {
   "cell_type": "code",
   "execution_count": 129,
   "id": "d2c8f70e",
   "metadata": {},
   "outputs": [
    {
     "name": "stdout",
     "output_type": "stream",
     "text": [
      "full_y_pred 4135 [0.02723881 0.02723881 0.22641509 ... 0.02769461 0.02769461 0.02769461]\n",
      "full_holdout_pred 1034 [0.13835223 0.13835223 0.13835223 ... 4.45998168 0.13835223 0.13835223]\n",
      "[0.02723881 0.02723881 0.22641509 ... 0.02769461 0.02769461 0.02769461] [0.13835223 0.13835223 0.13835223 ... 4.45998168 0.13835223 0.13835223]\n"
     ]
    }
   ],
   "source": [
    "# tuned RF\n",
    "dt_best = dt_search.best_params_\n",
    "tuned_dt = DecisionTreeClassifier(**dt_best)\n",
    "\n",
    "# RF oof\n",
    "full_dt, holdout_dt = out_of_fold(tuned_dt, X_train_tf_arr, X_test_tf_arr, y_train, y_test, kfold)\n",
    "print(full_dt, holdout_dt)"
   ]
  },
  {
   "cell_type": "code",
   "execution_count": 130,
   "id": "db43a743",
   "metadata": {},
   "outputs": [
    {
     "name": "stdout",
     "output_type": "stream",
     "text": [
      "full_y_pred 4135 [0.00000000e+000 1.00000000e+000 1.00000000e+000 ... 1.05212988e-170\n",
      " 0.00000000e+000 0.00000000e+000]\n",
      "full_holdout_pred 1034 [0. 0. 0. ... 5. 0. 0.]\n",
      "[0.00000000e+000 1.00000000e+000 1.00000000e+000 ... 1.05212988e-170\n",
      " 0.00000000e+000 0.00000000e+000] [0. 0. 0. ... 5. 0. 0.]\n"
     ]
    }
   ],
   "source": [
    "# tuned NB\n",
    "nb_best = nb_search.best_params_\n",
    "tuned_nb = GaussianNB(**nb_best)\n",
    "\n",
    "# RF oof\n",
    "full_nb, holdout_nb = out_of_fold(tuned_nb, X_train_tf_arr, X_test_tf_arr, y_train, y_test, kfold)\n",
    "print(full_nb, holdout_nb)"
   ]
  },
  {
   "cell_type": "markdown",
   "id": "bdca997a",
   "metadata": {},
   "source": [
    "### Stack models' predictions to make a new training data for meta class "
   ]
  },
  {
   "cell_type": "code",
   "execution_count": 131,
   "id": "b2edda40",
   "metadata": {},
   "outputs": [],
   "source": [
    "stack_train = np.column_stack((full_lr, full_knn, full_svm, full_rf, full_dt, full_nb))\n",
    "stack_test = np.column_stack((holdout_lr, holdout_knn, holdout_svm, holdout_rf, holdout_dt, holdout_nb))"
   ]
  },
  {
   "cell_type": "code",
   "execution_count": 132,
   "id": "26eaea38",
   "metadata": {},
   "outputs": [
    {
     "data": {
      "text/html": [
       "<div>\n",
       "<style scoped>\n",
       "    .dataframe tbody tr th:only-of-type {\n",
       "        vertical-align: middle;\n",
       "    }\n",
       "\n",
       "    .dataframe tbody tr th {\n",
       "        vertical-align: top;\n",
       "    }\n",
       "\n",
       "    .dataframe thead th {\n",
       "        text-align: right;\n",
       "    }\n",
       "</style>\n",
       "<table border=\"1\" class=\"dataframe\">\n",
       "  <thead>\n",
       "    <tr style=\"text-align: right;\">\n",
       "      <th></th>\n",
       "      <th>0</th>\n",
       "      <th>1</th>\n",
       "      <th>2</th>\n",
       "      <th>3</th>\n",
       "      <th>4</th>\n",
       "      <th>5</th>\n",
       "    </tr>\n",
       "  </thead>\n",
       "  <tbody>\n",
       "    <tr>\n",
       "      <th>0</th>\n",
       "      <td>0.028989</td>\n",
       "      <td>0.000000</td>\n",
       "      <td>0.000159</td>\n",
       "      <td>0.032774</td>\n",
       "      <td>0.027239</td>\n",
       "      <td>0.000000e+00</td>\n",
       "    </tr>\n",
       "    <tr>\n",
       "      <th>1</th>\n",
       "      <td>0.052738</td>\n",
       "      <td>0.000000</td>\n",
       "      <td>0.036559</td>\n",
       "      <td>0.045230</td>\n",
       "      <td>0.027239</td>\n",
       "      <td>1.000000e+00</td>\n",
       "    </tr>\n",
       "    <tr>\n",
       "      <th>2</th>\n",
       "      <td>0.259121</td>\n",
       "      <td>0.136107</td>\n",
       "      <td>0.943237</td>\n",
       "      <td>0.480379</td>\n",
       "      <td>0.226415</td>\n",
       "      <td>1.000000e+00</td>\n",
       "    </tr>\n",
       "    <tr>\n",
       "      <th>3</th>\n",
       "      <td>0.027980</td>\n",
       "      <td>0.000000</td>\n",
       "      <td>0.000730</td>\n",
       "      <td>0.033071</td>\n",
       "      <td>0.027239</td>\n",
       "      <td>0.000000e+00</td>\n",
       "    </tr>\n",
       "    <tr>\n",
       "      <th>4</th>\n",
       "      <td>0.031560</td>\n",
       "      <td>0.000000</td>\n",
       "      <td>0.000171</td>\n",
       "      <td>0.032774</td>\n",
       "      <td>0.027239</td>\n",
       "      <td>0.000000e+00</td>\n",
       "    </tr>\n",
       "    <tr>\n",
       "      <th>...</th>\n",
       "      <td>...</td>\n",
       "      <td>...</td>\n",
       "      <td>...</td>\n",
       "      <td>...</td>\n",
       "      <td>...</td>\n",
       "      <td>...</td>\n",
       "    </tr>\n",
       "    <tr>\n",
       "      <th>4130</th>\n",
       "      <td>0.018411</td>\n",
       "      <td>0.000000</td>\n",
       "      <td>0.000244</td>\n",
       "      <td>0.033711</td>\n",
       "      <td>0.027695</td>\n",
       "      <td>0.000000e+00</td>\n",
       "    </tr>\n",
       "    <tr>\n",
       "      <th>4131</th>\n",
       "      <td>0.216433</td>\n",
       "      <td>0.304534</td>\n",
       "      <td>0.686604</td>\n",
       "      <td>0.441505</td>\n",
       "      <td>0.707317</td>\n",
       "      <td>1.000000e+00</td>\n",
       "    </tr>\n",
       "    <tr>\n",
       "      <th>4132</th>\n",
       "      <td>0.052794</td>\n",
       "      <td>0.000000</td>\n",
       "      <td>0.058683</td>\n",
       "      <td>0.033711</td>\n",
       "      <td>0.027695</td>\n",
       "      <td>1.052130e-170</td>\n",
       "    </tr>\n",
       "    <tr>\n",
       "      <th>4133</th>\n",
       "      <td>0.046578</td>\n",
       "      <td>0.000000</td>\n",
       "      <td>0.016259</td>\n",
       "      <td>0.033711</td>\n",
       "      <td>0.027695</td>\n",
       "      <td>0.000000e+00</td>\n",
       "    </tr>\n",
       "    <tr>\n",
       "      <th>4134</th>\n",
       "      <td>0.052794</td>\n",
       "      <td>0.000000</td>\n",
       "      <td>0.084840</td>\n",
       "      <td>0.042345</td>\n",
       "      <td>0.027695</td>\n",
       "      <td>0.000000e+00</td>\n",
       "    </tr>\n",
       "  </tbody>\n",
       "</table>\n",
       "<p>4135 rows × 6 columns</p>\n",
       "</div>"
      ],
      "text/plain": [
       "             0         1         2         3         4              5\n",
       "0     0.028989  0.000000  0.000159  0.032774  0.027239   0.000000e+00\n",
       "1     0.052738  0.000000  0.036559  0.045230  0.027239   1.000000e+00\n",
       "2     0.259121  0.136107  0.943237  0.480379  0.226415   1.000000e+00\n",
       "3     0.027980  0.000000  0.000730  0.033071  0.027239   0.000000e+00\n",
       "4     0.031560  0.000000  0.000171  0.032774  0.027239   0.000000e+00\n",
       "...        ...       ...       ...       ...       ...            ...\n",
       "4130  0.018411  0.000000  0.000244  0.033711  0.027695   0.000000e+00\n",
       "4131  0.216433  0.304534  0.686604  0.441505  0.707317   1.000000e+00\n",
       "4132  0.052794  0.000000  0.058683  0.033711  0.027695  1.052130e-170\n",
       "4133  0.046578  0.000000  0.016259  0.033711  0.027695   0.000000e+00\n",
       "4134  0.052794  0.000000  0.084840  0.042345  0.027695   0.000000e+00\n",
       "\n",
       "[4135 rows x 6 columns]"
      ]
     },
     "execution_count": 132,
     "metadata": {},
     "output_type": "execute_result"
    }
   ],
   "source": [
    "stack_train_df = pd.DataFrame(stack_train)\n",
    "stack_train_df"
   ]
  },
  {
   "cell_type": "code",
   "execution_count": 133,
   "id": "7d249058",
   "metadata": {},
   "outputs": [
    {
     "data": {
      "text/html": [
       "<div>\n",
       "<style scoped>\n",
       "    .dataframe tbody tr th:only-of-type {\n",
       "        vertical-align: middle;\n",
       "    }\n",
       "\n",
       "    .dataframe tbody tr th {\n",
       "        vertical-align: top;\n",
       "    }\n",
       "\n",
       "    .dataframe thead th {\n",
       "        text-align: right;\n",
       "    }\n",
       "</style>\n",
       "<table border=\"1\" class=\"dataframe\">\n",
       "  <thead>\n",
       "    <tr style=\"text-align: right;\">\n",
       "      <th></th>\n",
       "      <th>0</th>\n",
       "      <th>1</th>\n",
       "      <th>2</th>\n",
       "      <th>3</th>\n",
       "      <th>4</th>\n",
       "      <th>5</th>\n",
       "    </tr>\n",
       "  </thead>\n",
       "  <tbody>\n",
       "    <tr>\n",
       "      <th>0</th>\n",
       "      <td>0.272498</td>\n",
       "      <td>0.000000</td>\n",
       "      <td>0.009301</td>\n",
       "      <td>0.169587</td>\n",
       "      <td>0.138352</td>\n",
       "      <td>0.0</td>\n",
       "    </tr>\n",
       "    <tr>\n",
       "      <th>1</th>\n",
       "      <td>0.241798</td>\n",
       "      <td>0.000000</td>\n",
       "      <td>0.002040</td>\n",
       "      <td>0.162811</td>\n",
       "      <td>0.138352</td>\n",
       "      <td>0.0</td>\n",
       "    </tr>\n",
       "    <tr>\n",
       "      <th>2</th>\n",
       "      <td>0.165627</td>\n",
       "      <td>0.000000</td>\n",
       "      <td>0.010824</td>\n",
       "      <td>0.162811</td>\n",
       "      <td>0.138352</td>\n",
       "      <td>0.0</td>\n",
       "    </tr>\n",
       "    <tr>\n",
       "      <th>3</th>\n",
       "      <td>0.209851</td>\n",
       "      <td>0.000000</td>\n",
       "      <td>0.041531</td>\n",
       "      <td>0.161627</td>\n",
       "      <td>0.138352</td>\n",
       "      <td>0.0</td>\n",
       "    </tr>\n",
       "    <tr>\n",
       "      <th>4</th>\n",
       "      <td>0.210651</td>\n",
       "      <td>0.000000</td>\n",
       "      <td>0.007540</td>\n",
       "      <td>0.162811</td>\n",
       "      <td>0.138352</td>\n",
       "      <td>0.0</td>\n",
       "    </tr>\n",
       "    <tr>\n",
       "      <th>...</th>\n",
       "      <td>...</td>\n",
       "      <td>...</td>\n",
       "      <td>...</td>\n",
       "      <td>...</td>\n",
       "      <td>...</td>\n",
       "      <td>...</td>\n",
       "    </tr>\n",
       "    <tr>\n",
       "      <th>1029</th>\n",
       "      <td>4.329460</td>\n",
       "      <td>1.210303</td>\n",
       "      <td>4.971530</td>\n",
       "      <td>2.182870</td>\n",
       "      <td>3.300000</td>\n",
       "      <td>4.0</td>\n",
       "    </tr>\n",
       "    <tr>\n",
       "      <th>1030</th>\n",
       "      <td>0.266280</td>\n",
       "      <td>0.000000</td>\n",
       "      <td>0.063548</td>\n",
       "      <td>0.162811</td>\n",
       "      <td>0.138352</td>\n",
       "      <td>0.0</td>\n",
       "    </tr>\n",
       "    <tr>\n",
       "      <th>1031</th>\n",
       "      <td>4.614997</td>\n",
       "      <td>3.546733</td>\n",
       "      <td>5.000000</td>\n",
       "      <td>4.645052</td>\n",
       "      <td>4.459982</td>\n",
       "      <td>5.0</td>\n",
       "    </tr>\n",
       "    <tr>\n",
       "      <th>1032</th>\n",
       "      <td>0.181735</td>\n",
       "      <td>0.000000</td>\n",
       "      <td>0.059297</td>\n",
       "      <td>0.289616</td>\n",
       "      <td>0.138352</td>\n",
       "      <td>0.0</td>\n",
       "    </tr>\n",
       "    <tr>\n",
       "      <th>1033</th>\n",
       "      <td>0.193068</td>\n",
       "      <td>0.000000</td>\n",
       "      <td>0.067454</td>\n",
       "      <td>0.170528</td>\n",
       "      <td>0.138352</td>\n",
       "      <td>0.0</td>\n",
       "    </tr>\n",
       "  </tbody>\n",
       "</table>\n",
       "<p>1034 rows × 6 columns</p>\n",
       "</div>"
      ],
      "text/plain": [
       "             0         1         2         3         4    5\n",
       "0     0.272498  0.000000  0.009301  0.169587  0.138352  0.0\n",
       "1     0.241798  0.000000  0.002040  0.162811  0.138352  0.0\n",
       "2     0.165627  0.000000  0.010824  0.162811  0.138352  0.0\n",
       "3     0.209851  0.000000  0.041531  0.161627  0.138352  0.0\n",
       "4     0.210651  0.000000  0.007540  0.162811  0.138352  0.0\n",
       "...        ...       ...       ...       ...       ...  ...\n",
       "1029  4.329460  1.210303  4.971530  2.182870  3.300000  4.0\n",
       "1030  0.266280  0.000000  0.063548  0.162811  0.138352  0.0\n",
       "1031  4.614997  3.546733  5.000000  4.645052  4.459982  5.0\n",
       "1032  0.181735  0.000000  0.059297  0.289616  0.138352  0.0\n",
       "1033  0.193068  0.000000  0.067454  0.170528  0.138352  0.0\n",
       "\n",
       "[1034 rows x 6 columns]"
      ]
     },
     "execution_count": 133,
     "metadata": {},
     "output_type": "execute_result"
    }
   ],
   "source": [
    "stack_test_df = pd.DataFrame(stack_test)\n",
    "stack_test_df"
   ]
  },
  {
   "cell_type": "markdown",
   "id": "4dce4c18",
   "metadata": {},
   "source": [
    "### Cross val score with meta model"
   ]
  },
  {
   "cell_type": "code",
   "execution_count": 134,
   "id": "173e4e6b",
   "metadata": {},
   "outputs": [
    {
     "name": "stdout",
     "output_type": "stream",
     "text": [
      "Meta mean accuracy 0.8730350665054415\n"
     ]
    }
   ],
   "source": [
    "from sklearn.ensemble import GradientBoostingClassifier\n",
    "\n",
    "meta_model = GradientBoostingClassifier(learning_rate=0.02, n_estimators=1100, n_iter_no_change=100, random_state=42)\n",
    "\n",
    "cv_score = cross_val_score(meta_model, stack_train_df, y_train, cv=kfold, scoring=\"accuracy\")\n",
    "print(\"Meta mean accuracy\", np.mean(cv_score))"
   ]
  },
  {
   "cell_type": "markdown",
   "id": "08d55e9d",
   "metadata": {},
   "source": [
    "### Tuned meta model"
   ]
  },
  {
   "cell_type": "code",
   "execution_count": 135,
   "id": "70ac9d55",
   "metadata": {},
   "outputs": [
    {
     "name": "stdout",
     "output_type": "stream",
     "text": [
      "Meta grid best score:  0.8737605804111246\n",
      "Meta grid best param:  {'max_depth': 4, 'min_samples_leaf': 50, 'subsample': 0.5}\n"
     ]
    }
   ],
   "source": [
    "meta_param = {'max_depth': [4, 6, 8], \n",
    "             'subsample': [0.5, 0.75, 1.0], \n",
    "             'min_samples_leaf': [50, 60, 70]}\n",
    "\n",
    "meta_grid = GridSearchCV(meta_model, meta_param, cv=kfold, scoring=\"accuracy\", n_jobs=-1).fit(stack_train_df, y_train)\n",
    "\n",
    "print('Meta grid best score: ', meta_grid.best_score_)\n",
    "print('Meta grid best param: ', meta_grid.best_params_)"
   ]
  },
  {
   "cell_type": "markdown",
   "id": "9f401bed",
   "metadata": {},
   "source": [
    "### Meta model on test set"
   ]
  },
  {
   "cell_type": "code",
   "execution_count": 136,
   "id": "ca407202",
   "metadata": {},
   "outputs": [
    {
     "data": {
      "text/plain": [
       "0.8733075435203095"
      ]
     },
     "execution_count": 136,
     "metadata": {},
     "output_type": "execute_result"
    }
   ],
   "source": [
    "from sklearn.metrics import confusion_matrix,classification_report,accuracy_score\n",
    "\n",
    "meta_best = meta_grid.best_params_\n",
    "\n",
    "final_meta = GradientBoostingClassifier(learning_rate=0.01, n_estimators=1000, \n",
    "                                        n_iter_no_change=100, random_state=42,\n",
    "                                       **meta_best)\n",
    "\n",
    "# evaluate on test set\n",
    "final_meta.fit(stack_train_df, y_train)\n",
    "y_pred = final_meta.predict(stack_test_df)\n",
    "final_acc = accuracy_score(y_test, y_pred)\n",
    "final_acc"
   ]
  },
  {
   "cell_type": "markdown",
   "id": "34c2e6cb",
   "metadata": {},
   "source": [
    "### Helper function to evaluate each model on test set"
   ]
  },
  {
   "cell_type": "code",
   "execution_count": 137,
   "id": "5ae34cb1",
   "metadata": {},
   "outputs": [],
   "source": [
    "def evaluate(models, X_train_tf, X_test_tf, y_train, y_test):\n",
    "    scores = []\n",
    "    for model in models:\n",
    "        model.fit(X_train_tf, y_train)\n",
    "        model_pred = model.predict(X_test_tf)\n",
    "        model_acc = accuracy_score(y_test, model_pred)\n",
    "        scores.append(model_acc)\n",
    "        \n",
    "    for i in range(len(scores) - 1):\n",
    "        print(pipe_dict[i], 'accuracy:', scores[i])"
   ]
  },
  {
   "cell_type": "code",
   "execution_count": 138,
   "id": "6bb73d9e",
   "metadata": {},
   "outputs": [],
   "source": [
    "def nb_evaluate(model, X_train_tf_arr, X_test_tf_arr, y_train, y_test):\n",
    "    # fit model\n",
    "    model.fit(X_train_tf_arr, y_train)\n",
    "    model_pred = model.predict(X_test_tf_arr)\n",
    "    \n",
    "    # get accuracy score\n",
    "    model_acc = accuracy_score(y_test, model_pred)\n",
    "    \n",
    "    print(\"Naive Bayes accuracy\" ':', model_acc)"
   ]
  },
  {
   "cell_type": "markdown",
   "id": "bf6e8d51",
   "metadata": {},
   "source": [
    "### Tuned models on test set"
   ]
  },
  {
   "cell_type": "code",
   "execution_count": 139,
   "id": "c3db1313",
   "metadata": {},
   "outputs": [
    {
     "name": "stdout",
     "output_type": "stream",
     "text": [
      "Logistic Regression accuracy: 0.9593810444874274\n",
      "K Nearest Neighbor accuracy: 0.9390715667311412\n",
      "Support Vector Machine accuracy: 0.9816247582205029\n",
      "Random Forrest accuracy: 0.9593810444874274\n"
     ]
    }
   ],
   "source": [
    "tuned_models = [tuned_lr, tuned_knn, tuned_svc, tuned_rf, tuned_dt]\n",
    "\n",
    "tuned_scores = evaluate(tuned_models, X_train_tf, X_test_tf, y_train, y_test)\n",
    "tuned_scores"
   ]
  },
  {
   "cell_type": "code",
   "execution_count": 140,
   "id": "e919353a",
   "metadata": {},
   "outputs": [
    {
     "name": "stdout",
     "output_type": "stream",
     "text": [
      "Naive Bayes accuracy: 0.9264990328820116\n"
     ]
    }
   ],
   "source": [
    "nb_score = nb_evaluate(tuned_nb, X_train_tf_arr, X_test_tf_arr, y_train, y_test)\n",
    "nb_score"
   ]
  },
  {
   "cell_type": "markdown",
   "id": "f280e86a",
   "metadata": {},
   "source": [
    "### Base models on test set"
   ]
  },
  {
   "cell_type": "code",
   "execution_count": 141,
   "id": "dc425e09",
   "metadata": {},
   "outputs": [
    {
     "name": "stdout",
     "output_type": "stream",
     "text": [
      "Logistic Regression accuracy: 0.9584139264990329\n",
      "K Nearest Neighbor accuracy: 0.902321083172147\n",
      "Support Vector Machine accuracy: 0.9787234042553191\n",
      "Random Forrest accuracy: 0.971953578336557\n"
     ]
    }
   ],
   "source": [
    "base_models = [lr, knn, svc, rf, dt]\n",
    "\n",
    "base_scores = evaluate(base_models, X_train_tf, X_test_tf, y_train, y_test)\n",
    "base_scores"
   ]
  },
  {
   "cell_type": "code",
   "execution_count": 142,
   "id": "c2c1e13e",
   "metadata": {},
   "outputs": [
    {
     "name": "stdout",
     "output_type": "stream",
     "text": [
      "Naive Bayes accuracy: 0.8762088974854932\n"
     ]
    }
   ],
   "source": [
    "nb_base_score = nb_evaluate(nb, X_train_tf_arr, X_test_tf_arr, y_train, y_test)\n",
    "nb_base_score"
   ]
  },
  {
   "cell_type": "markdown",
   "id": "87253be7",
   "metadata": {},
   "source": [
    "## Evaluate where models don't do good"
   ]
  },
  {
   "cell_type": "code",
   "execution_count": null,
   "id": "7f803e07",
   "metadata": {},
   "outputs": [],
   "source": [
    "# boom"
   ]
  },
  {
   "cell_type": "markdown",
   "id": "cfaa4473",
   "metadata": {},
   "source": [
    "## Accuracy comparison "
   ]
  },
  {
   "cell_type": "markdown",
   "id": "5f1c8c88",
   "metadata": {},
   "source": [
    "### Tuned models with Meta model"
   ]
  },
  {
   "cell_type": "code",
   "execution_count": 145,
   "id": "72014a4d",
   "metadata": {},
   "outputs": [
    {
     "data": {
      "text/plain": [
       "[None, None, 0.8733075435203095]"
      ]
     },
     "execution_count": 145,
     "metadata": {},
     "output_type": "execute_result"
    }
   ],
   "source": [
    "tuned_acc_plot = [\"Logistic Regression\", \"K-nearest neighbors\", \n",
    "                  \"Support Vector Machine\", \"Random Forest\", \n",
    "                  \"Decision Tree\", \"Naive Bayes\", \"Gradient Boosting Classifier\"]\n",
    "\n",
    "acc_data = [tuned_scores, nb_score, final_acc]\n",
    "acc_data"
   ]
  },
  {
   "cell_type": "code",
   "execution_count": 147,
   "id": "283959c0",
   "metadata": {},
   "outputs": [],
   "source": [
    "tuned_scores"
   ]
  },
  {
   "cell_type": "code",
   "execution_count": 144,
   "id": "8c97f535",
   "metadata": {},
   "outputs": [
    {
     "data": {
      "image/png": "[encoded data removed]",
      "text/plain": [
       "<Figure size 600x600 with 1 Axes>"
      ]
     },
     "metadata": {},
     "output_type": "display_data"
    }
   ],
   "source": [
    "model_names = [\"Model A\", \"Model B\", \"Model C\"]\n",
    "\n",
    "# Create bar plot\n",
    "plt.figure(figsize=(6, 6))\n",
    "plt.bar(model_names, accuracy_data) \n",
    "\n",
    "# Customize the plot\n",
    "plt.xlabel(\"Models\")\n",
    "plt.ylabel(\"Accuracy\")\n",
    "plt.title(\"Accuracy comparison of 6 base models and Meta model\")\n",
    "plt.xticks(rotation=15)  # Rotate x-axis labels for readability if many models\n",
    "\n",
    "# Display the plot\n",
    "plt.show()"
   ]
  },
  {
   "cell_type": "markdown",
   "id": "751cdeb2",
   "metadata": {},
   "source": [
    "### Base models"
   ]
  },
  {
   "cell_type": "code",
   "execution_count": null,
   "id": "55e6cd9d",
   "metadata": {},
   "outputs": [],
   "source": []
  },
  {
   "cell_type": "code",
   "execution_count": null,
   "id": "04d0eff5",
   "metadata": {},
   "outputs": [],
   "source": []
  }
 ],
 "metadata": {
  "kernelspec": {
   "display_name": "Python 3 (ipykernel)",
   "language": "python",
   "name": "python3"
  },
  "language_info": {
   "codemirror_mode": {
    "name": "ipython",
    "version": 3
   },
   "file_extension": ".py",
   "mimetype": "text/x-python",
   "name": "python",
   "nbconvert_exporter": "python",
   "pygments_lexer": "ipython3",
   "version": "3.11.5"
  }
 },
 "nbformat": 4,
 "nbformat_minor": 5
}
