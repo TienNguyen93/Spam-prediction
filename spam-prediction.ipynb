{
 "cells": [
  {
   "cell_type": "markdown",
   "id": "5c76b89c",
   "metadata": {},
   "source": [
    "## Data Exploration"
   ]
  },
  {
   "cell_type": "markdown",
   "id": "cf9d640b",
   "metadata": {},
   "source": [
    "### Import libraries"
   ]
  },
  {
   "cell_type": "code",
   "execution_count": 1,
   "id": "0b15285c",
   "metadata": {},
   "outputs": [],
   "source": [
    "import pandas as pd\n",
    "import numpy as np\n",
    "import seaborn as sns\n",
    "import string\n",
    "import matplotlib.pyplot as plt"
   ]
  },
  {
   "cell_type": "markdown",
   "id": "bee06e87",
   "metadata": {},
   "source": [
    "### General view of the dataset"
   ]
  },
  {
   "cell_type": "code",
   "execution_count": 2,
   "id": "b0de88ae",
   "metadata": {},
   "outputs": [],
   "source": [
    "df = pd.read_csv('spam_1.csv')"
   ]
  },
  {
   "cell_type": "code",
   "execution_count": 3,
   "id": "8327e3d0",
   "metadata": {},
   "outputs": [
    {
     "data": {
      "text/html": [
       "<div>\n",
       "<style scoped>\n",
       "    .dataframe tbody tr th:only-of-type {\n",
       "        vertical-align: middle;\n",
       "    }\n",
       "\n",
       "    .dataframe tbody tr th {\n",
       "        vertical-align: top;\n",
       "    }\n",
       "\n",
       "    .dataframe thead th {\n",
       "        text-align: right;\n",
       "    }\n",
       "</style>\n",
       "<table border=\"1\" class=\"dataframe\">\n",
       "  <thead>\n",
       "    <tr style=\"text-align: right;\">\n",
       "      <th></th>\n",
       "      <th>v1</th>\n",
       "      <th>v2</th>\n",
       "      <th>Unnamed: 2</th>\n",
       "      <th>Unnamed: 3</th>\n",
       "      <th>Unnamed: 4</th>\n",
       "    </tr>\n",
       "  </thead>\n",
       "  <tbody>\n",
       "    <tr>\n",
       "      <th>0</th>\n",
       "      <td>ham</td>\n",
       "      <td>Go until jurong point, crazy.. Available only ...</td>\n",
       "      <td>NaN</td>\n",
       "      <td>NaN</td>\n",
       "      <td>NaN</td>\n",
       "    </tr>\n",
       "    <tr>\n",
       "      <th>1</th>\n",
       "      <td>ham</td>\n",
       "      <td>Ok lar... Joking wif u oni...</td>\n",
       "      <td>NaN</td>\n",
       "      <td>NaN</td>\n",
       "      <td>NaN</td>\n",
       "    </tr>\n",
       "    <tr>\n",
       "      <th>2</th>\n",
       "      <td>spam</td>\n",
       "      <td>Free entry in 2 a wkly comp to win FA Cup fina...</td>\n",
       "      <td>NaN</td>\n",
       "      <td>NaN</td>\n",
       "      <td>NaN</td>\n",
       "    </tr>\n",
       "    <tr>\n",
       "      <th>3</th>\n",
       "      <td>ham</td>\n",
       "      <td>U dun say so early hor... U c already then say...</td>\n",
       "      <td>NaN</td>\n",
       "      <td>NaN</td>\n",
       "      <td>NaN</td>\n",
       "    </tr>\n",
       "    <tr>\n",
       "      <th>4</th>\n",
       "      <td>ham</td>\n",
       "      <td>Nah I don't think he goes to usf, he lives aro...</td>\n",
       "      <td>NaN</td>\n",
       "      <td>NaN</td>\n",
       "      <td>NaN</td>\n",
       "    </tr>\n",
       "  </tbody>\n",
       "</table>\n",
       "</div>"
      ],
      "text/plain": [
       "     v1                                                 v2 Unnamed: 2  \\\n",
       "0   ham  Go until jurong point, crazy.. Available only ...        NaN   \n",
       "1   ham                      Ok lar... Joking wif u oni...        NaN   \n",
       "2  spam  Free entry in 2 a wkly comp to win FA Cup fina...        NaN   \n",
       "3   ham  U dun say so early hor... U c already then say...        NaN   \n",
       "4   ham  Nah I don't think he goes to usf, he lives aro...        NaN   \n",
       "\n",
       "  Unnamed: 3 Unnamed: 4  \n",
       "0        NaN        NaN  \n",
       "1        NaN        NaN  \n",
       "2        NaN        NaN  \n",
       "3        NaN        NaN  \n",
       "4        NaN        NaN  "
      ]
     },
     "execution_count": 3,
     "metadata": {},
     "output_type": "execute_result"
    }
   ],
   "source": [
    "df.head()"
   ]
  },
  {
   "cell_type": "code",
   "execution_count": 4,
   "id": "e6d710a6",
   "metadata": {},
   "outputs": [
    {
     "data": {
      "text/plain": [
       "(5572, 5)"
      ]
     },
     "execution_count": 4,
     "metadata": {},
     "output_type": "execute_result"
    }
   ],
   "source": [
    "df.shape"
   ]
  },
  {
   "cell_type": "markdown",
   "id": "adceb753",
   "metadata": {},
   "source": [
    "There are `5572` data points and `5` columns: `v1`, `v2`, `Unnamed: 2`,\t`Unnamed: 3`, `Unnamed: 4`\n"
   ]
  },
  {
   "cell_type": "markdown",
   "id": "77135563",
   "metadata": {},
   "source": [
    "#### Drop `Unnamed: 2`,\t`Unnamed: 3`, `Unnamed: 4` since they are irrelevant"
   ]
  },
  {
   "cell_type": "code",
   "execution_count": 5,
   "id": "6aa8c1b4",
   "metadata": {},
   "outputs": [],
   "source": [
    "# delete 3 unnamed columns\n",
    "df = df.drop(['Unnamed: 2', 'Unnamed: 3', 'Unnamed: 4'], axis=1)"
   ]
  },
  {
   "cell_type": "markdown",
   "id": "890ea6e8",
   "metadata": {},
   "source": [
    "#### Rename `v1` to `Category` and `v2` to `Message`"
   ]
  },
  {
   "cell_type": "code",
   "execution_count": 6,
   "id": "ad92e005",
   "metadata": {},
   "outputs": [],
   "source": [
    "df = df.rename(columns={\"v1\": \"Label\", \"v2\": \"Message\"})"
   ]
  },
  {
   "cell_type": "code",
   "execution_count": 7,
   "id": "3054fcaa",
   "metadata": {},
   "outputs": [
    {
     "data": {
      "text/html": [
       "<div>\n",
       "<style scoped>\n",
       "    .dataframe tbody tr th:only-of-type {\n",
       "        vertical-align: middle;\n",
       "    }\n",
       "\n",
       "    .dataframe tbody tr th {\n",
       "        vertical-align: top;\n",
       "    }\n",
       "\n",
       "    .dataframe thead th {\n",
       "        text-align: right;\n",
       "    }\n",
       "</style>\n",
       "<table border=\"1\" class=\"dataframe\">\n",
       "  <thead>\n",
       "    <tr style=\"text-align: right;\">\n",
       "      <th></th>\n",
       "      <th>Label</th>\n",
       "      <th>Message</th>\n",
       "    </tr>\n",
       "  </thead>\n",
       "  <tbody>\n",
       "    <tr>\n",
       "      <th>0</th>\n",
       "      <td>ham</td>\n",
       "      <td>Go until jurong point, crazy.. Available only ...</td>\n",
       "    </tr>\n",
       "    <tr>\n",
       "      <th>1</th>\n",
       "      <td>ham</td>\n",
       "      <td>Ok lar... Joking wif u oni...</td>\n",
       "    </tr>\n",
       "    <tr>\n",
       "      <th>2</th>\n",
       "      <td>spam</td>\n",
       "      <td>Free entry in 2 a wkly comp to win FA Cup fina...</td>\n",
       "    </tr>\n",
       "    <tr>\n",
       "      <th>3</th>\n",
       "      <td>ham</td>\n",
       "      <td>U dun say so early hor... U c already then say...</td>\n",
       "    </tr>\n",
       "    <tr>\n",
       "      <th>4</th>\n",
       "      <td>ham</td>\n",
       "      <td>Nah I don't think he goes to usf, he lives aro...</td>\n",
       "    </tr>\n",
       "  </tbody>\n",
       "</table>\n",
       "</div>"
      ],
      "text/plain": [
       "  Label                                            Message\n",
       "0   ham  Go until jurong point, crazy.. Available only ...\n",
       "1   ham                      Ok lar... Joking wif u oni...\n",
       "2  spam  Free entry in 2 a wkly comp to win FA Cup fina...\n",
       "3   ham  U dun say so early hor... U c already then say...\n",
       "4   ham  Nah I don't think he goes to usf, he lives aro..."
      ]
     },
     "execution_count": 7,
     "metadata": {},
     "output_type": "execute_result"
    }
   ],
   "source": [
    "df.head()"
   ]
  },
  {
   "cell_type": "markdown",
   "id": "517ae8c6",
   "metadata": {},
   "source": [
    "#### Check for missing values "
   ]
  },
  {
   "cell_type": "code",
   "execution_count": null,
   "id": "1ae555bf",
   "metadata": {},
   "outputs": [],
   "source": [
    "# check null\n",
    "df.isnull().sum()"
   ]
  },
  {
   "cell_type": "markdown",
   "id": "38d0cd93",
   "metadata": {},
   "source": [
    "#### Check for duplicates"
   ]
  },
  {
   "cell_type": "code",
   "execution_count": 8,
   "id": "f15f158c",
   "metadata": {},
   "outputs": [],
   "source": [
    "# drop duplicates\n",
    "df.drop_duplicates(inplace=True)"
   ]
  },
  {
   "cell_type": "code",
   "execution_count": 9,
   "id": "45ffaed2",
   "metadata": {},
   "outputs": [
    {
     "data": {
      "text/plain": [
       "(5169, 2)"
      ]
     },
     "execution_count": 9,
     "metadata": {},
     "output_type": "execute_result"
    }
   ],
   "source": [
    "df.shape"
   ]
  },
  {
   "cell_type": "markdown",
   "id": "cf3d20c1",
   "metadata": {},
   "source": [
    "After dropping duplicates, the dataset goes from `5572` to `5169` rows"
   ]
  },
  {
   "cell_type": "markdown",
   "id": "9f3455c7",
   "metadata": {},
   "source": [
    "## Data preprocessing"
   ]
  },
  {
   "cell_type": "markdown",
   "id": "f7a95f90",
   "metadata": {},
   "source": [
    "### Remove special character"
   ]
  },
  {
   "cell_type": "code",
   "execution_count": 10,
   "id": "73ff8cf1",
   "metadata": {},
   "outputs": [],
   "source": [
    "punctuation = string.punctuation\n",
    "def remove_punctuation(text):\n",
    "    return text.translate(str.maketrans('', '', punctuation))"
   ]
  },
  {
   "cell_type": "code",
   "execution_count": 11,
   "id": "2f1c01a0",
   "metadata": {},
   "outputs": [
    {
     "data": {
      "text/html": [
       "<div>\n",
       "<style scoped>\n",
       "    .dataframe tbody tr th:only-of-type {\n",
       "        vertical-align: middle;\n",
       "    }\n",
       "\n",
       "    .dataframe tbody tr th {\n",
       "        vertical-align: top;\n",
       "    }\n",
       "\n",
       "    .dataframe thead th {\n",
       "        text-align: right;\n",
       "    }\n",
       "</style>\n",
       "<table border=\"1\" class=\"dataframe\">\n",
       "  <thead>\n",
       "    <tr style=\"text-align: right;\">\n",
       "      <th></th>\n",
       "      <th>Label</th>\n",
       "      <th>Message</th>\n",
       "    </tr>\n",
       "  </thead>\n",
       "  <tbody>\n",
       "    <tr>\n",
       "      <th>0</th>\n",
       "      <td>ham</td>\n",
       "      <td>Go until jurong point crazy Available only in ...</td>\n",
       "    </tr>\n",
       "    <tr>\n",
       "      <th>1</th>\n",
       "      <td>ham</td>\n",
       "      <td>Ok lar Joking wif u oni</td>\n",
       "    </tr>\n",
       "    <tr>\n",
       "      <th>2</th>\n",
       "      <td>spam</td>\n",
       "      <td>Free entry in 2 a wkly comp to win FA Cup fina...</td>\n",
       "    </tr>\n",
       "    <tr>\n",
       "      <th>3</th>\n",
       "      <td>ham</td>\n",
       "      <td>U dun say so early hor U c already then say</td>\n",
       "    </tr>\n",
       "    <tr>\n",
       "      <th>4</th>\n",
       "      <td>ham</td>\n",
       "      <td>Nah I dont think he goes to usf he lives aroun...</td>\n",
       "    </tr>\n",
       "  </tbody>\n",
       "</table>\n",
       "</div>"
      ],
      "text/plain": [
       "  Label                                            Message\n",
       "0   ham  Go until jurong point crazy Available only in ...\n",
       "1   ham                            Ok lar Joking wif u oni\n",
       "2  spam  Free entry in 2 a wkly comp to win FA Cup fina...\n",
       "3   ham        U dun say so early hor U c already then say\n",
       "4   ham  Nah I dont think he goes to usf he lives aroun..."
      ]
     },
     "execution_count": 11,
     "metadata": {},
     "output_type": "execute_result"
    }
   ],
   "source": [
    "df[\"Message\"] = df[\"Message\"].apply(lambda text: remove_punctuation(text))\n",
    "df.head()"
   ]
  },
  {
   "cell_type": "markdown",
   "id": "591181c9",
   "metadata": {},
   "source": [
    "### Remove stopwords"
   ]
  },
  {
   "cell_type": "markdown",
   "id": "4250b7c1",
   "metadata": {},
   "source": [
    "#### Install `nltk` (Natural Language Toolkit) "
   ]
  },
  {
   "cell_type": "code",
   "execution_count": null,
   "id": "0fbd6a9d",
   "metadata": {},
   "outputs": [],
   "source": [
    "# pip install nltk"
   ]
  },
  {
   "cell_type": "code",
   "execution_count": null,
   "id": "cf820113",
   "metadata": {},
   "outputs": [],
   "source": [
    "import nltk\n",
    "\n",
    "nltk.download('stopwords')"
   ]
  },
  {
   "cell_type": "markdown",
   "id": "6ff7172f",
   "metadata": {},
   "source": [
    "#### Function to remove stopwords"
   ]
  },
  {
   "cell_type": "code",
   "execution_count": 12,
   "id": "319e3e18",
   "metadata": {},
   "outputs": [],
   "source": [
    "from nltk.corpus import stopwords\n",
    "stop_words = set(stopwords.words('english'))\n",
    "\n",
    "def remove_stopwords(text):\n",
    "    return \" \".join([word for word in str(text).split() if word not in stop_words])"
   ]
  },
  {
   "cell_type": "code",
   "execution_count": 13,
   "id": "e9da8eda",
   "metadata": {},
   "outputs": [
    {
     "data": {
      "text/html": [
       "<div>\n",
       "<style scoped>\n",
       "    .dataframe tbody tr th:only-of-type {\n",
       "        vertical-align: middle;\n",
       "    }\n",
       "\n",
       "    .dataframe tbody tr th {\n",
       "        vertical-align: top;\n",
       "    }\n",
       "\n",
       "    .dataframe thead th {\n",
       "        text-align: right;\n",
       "    }\n",
       "</style>\n",
       "<table border=\"1\" class=\"dataframe\">\n",
       "  <thead>\n",
       "    <tr style=\"text-align: right;\">\n",
       "      <th></th>\n",
       "      <th>Label</th>\n",
       "      <th>Message</th>\n",
       "    </tr>\n",
       "  </thead>\n",
       "  <tbody>\n",
       "    <tr>\n",
       "      <th>0</th>\n",
       "      <td>ham</td>\n",
       "      <td>Go jurong point crazy Available bugis n great ...</td>\n",
       "    </tr>\n",
       "    <tr>\n",
       "      <th>1</th>\n",
       "      <td>ham</td>\n",
       "      <td>Ok lar Joking wif u oni</td>\n",
       "    </tr>\n",
       "    <tr>\n",
       "      <th>2</th>\n",
       "      <td>spam</td>\n",
       "      <td>Free entry 2 wkly comp win FA Cup final tkts 2...</td>\n",
       "    </tr>\n",
       "    <tr>\n",
       "      <th>3</th>\n",
       "      <td>ham</td>\n",
       "      <td>U dun say early hor U c already say</td>\n",
       "    </tr>\n",
       "    <tr>\n",
       "      <th>4</th>\n",
       "      <td>ham</td>\n",
       "      <td>Nah I dont think goes usf lives around though</td>\n",
       "    </tr>\n",
       "  </tbody>\n",
       "</table>\n",
       "</div>"
      ],
      "text/plain": [
       "  Label                                            Message\n",
       "0   ham  Go jurong point crazy Available bugis n great ...\n",
       "1   ham                            Ok lar Joking wif u oni\n",
       "2  spam  Free entry 2 wkly comp win FA Cup final tkts 2...\n",
       "3   ham                U dun say early hor U c already say\n",
       "4   ham      Nah I dont think goes usf lives around though"
      ]
     },
     "execution_count": 13,
     "metadata": {},
     "output_type": "execute_result"
    }
   ],
   "source": [
    "df[\"Message\"] = df[\"Message\"].apply(lambda text: remove_stopwords(text))\n",
    "df.head()"
   ]
  },
  {
   "cell_type": "markdown",
   "id": "63087b73",
   "metadata": {},
   "source": [
    "### Lemmatizing words"
   ]
  },
  {
   "cell_type": "code",
   "execution_count": null,
   "id": "91dfc88f",
   "metadata": {},
   "outputs": [],
   "source": [
    "import nltk\n",
    "\n",
    "nltk.download('wordnet')"
   ]
  },
  {
   "cell_type": "markdown",
   "id": "8eab106f",
   "metadata": {},
   "source": [
    "#### Function to lemmatize the text"
   ]
  },
  {
   "cell_type": "code",
   "execution_count": 14,
   "id": "8311281a",
   "metadata": {},
   "outputs": [],
   "source": [
    "from nltk.stem import WordNetLemmatizer\n",
    "from nltk.corpus import wordnet\n",
    "from nltk import pos_tag\n",
    "\n",
    "# pos_text: Part of speech, assign a tag to each token in a document to denote its part of speech\n",
    "\n",
    "wordnet_map = {\"N\":  wordnet.NOUN, \"V\": wordnet.VERB, \"J\": wordnet.ADJ, \"R\": wordnet.ADV}\n",
    "lemmatizer = WordNetLemmatizer()\n",
    "\n",
    "def lemmatize_words(text):\n",
    "    pos_text = pos_tag(text.split())\n",
    "    return \" \".join([lemmatizer.lemmatize(word, wordnet_map.get(pos[0], wordnet.NOUN)) for word, pos in pos_text])"
   ]
  },
  {
   "cell_type": "code",
   "execution_count": 15,
   "id": "b7ec8e13",
   "metadata": {},
   "outputs": [
    {
     "data": {
      "text/html": [
       "<div>\n",
       "<style scoped>\n",
       "    .dataframe tbody tr th:only-of-type {\n",
       "        vertical-align: middle;\n",
       "    }\n",
       "\n",
       "    .dataframe tbody tr th {\n",
       "        vertical-align: top;\n",
       "    }\n",
       "\n",
       "    .dataframe thead th {\n",
       "        text-align: right;\n",
       "    }\n",
       "</style>\n",
       "<table border=\"1\" class=\"dataframe\">\n",
       "  <thead>\n",
       "    <tr style=\"text-align: right;\">\n",
       "      <th></th>\n",
       "      <th>Label</th>\n",
       "      <th>Message</th>\n",
       "    </tr>\n",
       "  </thead>\n",
       "  <tbody>\n",
       "    <tr>\n",
       "      <th>0</th>\n",
       "      <td>ham</td>\n",
       "      <td>Go jurong point crazy Available bugis n great ...</td>\n",
       "    </tr>\n",
       "    <tr>\n",
       "      <th>1</th>\n",
       "      <td>ham</td>\n",
       "      <td>Ok lar Joking wif u oni</td>\n",
       "    </tr>\n",
       "    <tr>\n",
       "      <th>2</th>\n",
       "      <td>spam</td>\n",
       "      <td>Free entry 2 wkly comp win FA Cup final tkts 2...</td>\n",
       "    </tr>\n",
       "    <tr>\n",
       "      <th>3</th>\n",
       "      <td>ham</td>\n",
       "      <td>U dun say early hor U c already say</td>\n",
       "    </tr>\n",
       "    <tr>\n",
       "      <th>4</th>\n",
       "      <td>ham</td>\n",
       "      <td>Nah I dont think go usf life around though</td>\n",
       "    </tr>\n",
       "  </tbody>\n",
       "</table>\n",
       "</div>"
      ],
      "text/plain": [
       "  Label                                            Message\n",
       "0   ham  Go jurong point crazy Available bugis n great ...\n",
       "1   ham                            Ok lar Joking wif u oni\n",
       "2  spam  Free entry 2 wkly comp win FA Cup final tkts 2...\n",
       "3   ham                U dun say early hor U c already say\n",
       "4   ham         Nah I dont think go usf life around though"
      ]
     },
     "execution_count": 15,
     "metadata": {},
     "output_type": "execute_result"
    }
   ],
   "source": [
    "df[\"Message\"] = df[\"Message\"].apply(lambda text: lemmatize_words(text))\n",
    "df.head()"
   ]
  },
  {
   "cell_type": "markdown",
   "id": "697b6cf7",
   "metadata": {},
   "source": [
    "### Check label's distribution of target vector `Category` to determine whether unbalanced or not"
   ]
  },
  {
   "cell_type": "code",
   "execution_count": 16,
   "id": "a84c9d49",
   "metadata": {},
   "outputs": [
    {
     "data": {
      "image/png": "[encoded data removed]",
      "text/plain": [
       "<Figure size 640x480 with 1 Axes>"
      ]
     },
     "metadata": {},
     "output_type": "display_data"
    }
   ],
   "source": [
    "sns.countplot(x=\"Label\", data=df)\n",
    "plt.savefig('label_count')"
   ]
  },
  {
   "cell_type": "code",
   "execution_count": 17,
   "id": "9bac8087",
   "metadata": {},
   "outputs": [
    {
     "data": {
      "text/plain": [
       "Label\n",
       "ham     4516\n",
       "spam     653\n",
       "Name: count, dtype: int64"
      ]
     },
     "execution_count": 17,
     "metadata": {},
     "output_type": "execute_result"
    }
   ],
   "source": [
    "df['Label'].value_counts()"
   ]
  },
  {
   "cell_type": "markdown",
   "id": "78c347a7",
   "metadata": {},
   "source": [
    "The labels are unbalanced with **87%** are ham and **13%** are spam"
   ]
  },
  {
   "cell_type": "markdown",
   "id": "fd741d4d",
   "metadata": {},
   "source": [
    "## Split data"
   ]
  },
  {
   "cell_type": "code",
   "execution_count": 18,
   "id": "acfaa744",
   "metadata": {},
   "outputs": [],
   "source": [
    "X = df['Message']\n",
    "y = df['Label']"
   ]
  },
  {
   "cell_type": "markdown",
   "id": "9accc37a",
   "metadata": {},
   "source": [
    "Since there's unbalanced in class lables, **stratified partitioning** will be used because it ensures that every partition preserves the same ratio of values for the prediction target as in the original data"
   ]
  },
  {
   "cell_type": "code",
   "execution_count": 19,
   "id": "559523c4",
   "metadata": {},
   "outputs": [],
   "source": [
    "from sklearn.model_selection import train_test_split\n",
    "\n",
    "# split data into training and testing\n",
    "X_train, X_test, y_train, y_test = train_test_split(X, y, test_size=0.2, random_state=42, stratify=y)"
   ]
  },
  {
   "cell_type": "code",
   "execution_count": 20,
   "id": "bdae090f",
   "metadata": {},
   "outputs": [
    {
     "name": "stdout",
     "output_type": "stream",
     "text": [
      "(4135,) (1034,) (4135,) (1034,)\n"
     ]
    }
   ],
   "source": [
    "print(X_train.shape, X_test.shape, y_train.shape, y_test.shape)"
   ]
  },
  {
   "cell_type": "markdown",
   "id": "f3c1a393",
   "metadata": {},
   "source": [
    "## Training models"
   ]
  },
  {
   "cell_type": "markdown",
   "id": "d211dd82",
   "metadata": {},
   "source": [
    "### Import models from scikit-learn"
   ]
  },
  {
   "cell_type": "code",
   "execution_count": 21,
   "id": "734bb683",
   "metadata": {},
   "outputs": [],
   "source": [
    "# base models\n",
    "from sklearn.linear_model import LogisticRegression\n",
    "from sklearn.neighbors import KNeighborsClassifier\n",
    "from sklearn.svm import SVC\n",
    "from sklearn.naive_bayes import GaussianNB\n",
    "from sklearn.ensemble import RandomForestClassifier\n",
    "from sklearn.tree import DecisionTreeClassifier\n",
    "\n",
    "# meta model\n",
    "from sklearn.ensemble import GradientBoostingClassifier"
   ]
  },
  {
   "cell_type": "markdown",
   "id": "5174dfe1",
   "metadata": {},
   "source": [
    "### Initialize TfidfVectorizer"
   ]
  },
  {
   "cell_type": "code",
   "execution_count": 22,
   "id": "78069ba5",
   "metadata": {},
   "outputs": [],
   "source": [
    "from sklearn.feature_extraction.text import TfidfVectorizer\n",
    "\n",
    "tf = TfidfVectorizer()"
   ]
  },
  {
   "cell_type": "markdown",
   "id": "84d26258",
   "metadata": {},
   "source": [
    "### Import  `Kfold`,  `cross_val_score`, `Pipeline`"
   ]
  },
  {
   "cell_type": "code",
   "execution_count": 23,
   "id": "fd15add7",
   "metadata": {},
   "outputs": [],
   "source": [
    "from sklearn.model_selection import KFold\n",
    "from sklearn.model_selection import cross_val_score, cross_validate\n",
    "from sklearn.pipeline import Pipeline\n",
    "\n",
    "kfold = KFold(n_splits=5, shuffle=True, random_state=42)"
   ]
  },
  {
   "cell_type": "markdown",
   "id": "59cb0bda",
   "metadata": {},
   "source": [
    "### Create pipelines for base models and define baseline performance (training set) with `cross_val_score`"
   ]
  },
  {
   "cell_type": "markdown",
   "id": "73be71e4",
   "metadata": {},
   "source": [
    "### Pipelines"
   ]
  },
  {
   "cell_type": "code",
   "execution_count": 24,
   "id": "0aa07ccb",
   "metadata": {},
   "outputs": [],
   "source": [
    "# initialize LR model\n",
    "lr = LogisticRegression()\n",
    "lr_pl = Pipeline([('tf', TfidfVectorizer()), ('lr', lr)]) # initialize LR pipeline \n",
    "\n",
    "# initialize KNN model\n",
    "knn = KNeighborsClassifier()\n",
    "knn_pl = Pipeline([('tf', TfidfVectorizer()), ('knn', knn)]) # initialize KNN pipeline \n",
    "\n",
    "# initialize SVM model\n",
    "svc = SVC()\n",
    "svc_pl = Pipeline([('tf', TfidfVectorizer()), ('svc', svc)]) # initialize SVM pipeline \n",
    "\n",
    "# initialize NB model\n",
    "nb = GaussianNB()\n",
    "nb_pl = Pipeline([('tf', TfidfVectorizer()), ('nb', nb)]) # initialize NB pipeline \n",
    "\n",
    "# initialize RF model\n",
    "rf = RandomForestClassifier()\n",
    "rf_pl = Pipeline([('tf', TfidfVectorizer()), ('rf', rf)]) # initialize RF pipeline \n",
    "\n",
    "# initialize DT model\n",
    "dt = DecisionTreeClassifier()\n",
    "dt_pl = Pipeline([('tf', TfidfVectorizer()), ('dt', dt)])  # initialize DT pipeline \n"
   ]
  },
  {
   "cell_type": "code",
   "execution_count": 25,
   "id": "962918e9",
   "metadata": {},
   "outputs": [],
   "source": [
    "pipelines = [lr_pl, knn_pl, svc_pl, rf_pl, dt_pl]\n",
    "\n",
    "pipe_dict = {0: 'Logistic Regression', 1: 'K Nearest Neighbor', 2: 'Support Vector Machine',\n",
    "             3: 'Random Forrest', 4: 'Decision Tree'}"
   ]
  },
  {
   "cell_type": "markdown",
   "id": "16bc30a9",
   "metadata": {},
   "source": [
    "#### Cross validate for all based models except Naive Bayes (due to sparse matrix error)"
   ]
  },
  {
   "cell_type": "code",
   "execution_count": 26,
   "id": "924eb14e",
   "metadata": {},
   "outputs": [
    {
     "name": "stdout",
     "output_type": "stream",
     "text": [
      "Logistic Regression\n",
      "fit_time 0.3621193885803223\n",
      "score_time 0.045862674713134766\n",
      "test_score 0.9547762998790811\n",
      "train_score 0.9558645707376059\n",
      "\n",
      "\n",
      "K Nearest Neighbor\n",
      "fit_time 0.16872119903564453\n",
      "score_time 0.6006708145141602\n",
      "test_score 0.9110036275695285\n",
      "train_score 0.9167472793228537\n",
      "\n",
      "\n",
      "Support Vector Machine\n",
      "fit_time 3.131206750869751\n",
      "score_time 0.5185811519622803\n",
      "test_score 0.9724304715840386\n",
      "train_score 0.9976420798065296\n",
      "\n",
      "\n",
      "Random Forrest\n",
      "fit_time 10.724314117431641\n",
      "score_time 0.1771376132965088\n",
      "test_score 0.9688029020556227\n",
      "train_score 1.0\n",
      "\n",
      "\n",
      "Decision Tree\n",
      "fit_time 2.3229061126708985\n",
      "score_time 0.04192805290222168\n",
      "test_score 0.9400241837968561\n",
      "train_score 1.0\n",
      "\n",
      "\n"
     ]
    }
   ],
   "source": [
    "for i in range(len(pipelines)):\n",
    "    score = cross_validate(pipelines[i], X_train, y_train,\n",
    "                          cv=kfold, scoring='accuracy',\n",
    "                          return_train_score=True)\n",
    "    print(pipe_dict[i])\n",
    "    for k, v in score.items():\n",
    "        print(k, np.mean(v))\n",
    "    print('\\n')"
   ]
  },
  {
   "cell_type": "markdown",
   "id": "25f0ec56",
   "metadata": {},
   "source": [
    "#### Cross validate for Naive Bayes"
   ]
  },
  {
   "cell_type": "code",
   "execution_count": 27,
   "id": "33e43658",
   "metadata": {},
   "outputs": [
    {
     "name": "stdout",
     "output_type": "stream",
     "text": [
      "Naive Bayes\n",
      "fit_time 1.092834758758545\n",
      "score_time 0.3466601848602295\n",
      "test_score 0.8836759371221282\n",
      "train_score 0.9530229746070132\n"
     ]
    }
   ],
   "source": [
    "# for NB\n",
    "nb_test = GaussianNB()\n",
    "X_train_tf = tf.fit_transform(X_train)\n",
    "X_test_tf = tf.transform(X_test)\n",
    "\n",
    "X_train_tf_arr = X_train_tf.toarray()\n",
    "X_test_tf_arr = X_test_tf.toarray()\n",
    "\n",
    "nb_score = cross_validate(nb_test, X_train_tf_arr, y_train,\n",
    "                          cv=kfold, scoring='accuracy',\n",
    "                          return_train_score=True)\n",
    "print('Naive Bayes')\n",
    "for k, v in nb_score.items():\n",
    "    print(k, np.mean(v))"
   ]
  },
  {
   "cell_type": "markdown",
   "id": "f1bb32f4",
   "metadata": {},
   "source": [
    "### Summary of the model's baseline performances (train_score focus)"
   ]
  },
  {
   "cell_type": "code",
   "execution_count": 28,
   "id": "40aaf7d3",
   "metadata": {},
   "outputs": [],
   "source": [
    "from sklearn.model_selection import GridSearchCV\n",
    "from sklearn.model_selection import RandomizedSearchCV"
   ]
  },
  {
   "cell_type": "code",
   "execution_count": 29,
   "id": "f60a0512",
   "metadata": {},
   "outputs": [
    {
     "name": "stdout",
     "output_type": "stream",
     "text": [
      "LR random best score:  0.9417170495767836\n",
      "LR random best param:  {'l1_ratio': 0.9, 'penalty': 'elasticnet', 'solver': 'saga'}\n"
     ]
    }
   ],
   "source": [
    "# search for LR\n",
    "lr_param = {'penalty': [\"elasticnet\"], \n",
    "            'solver': [\"saga\"],\n",
    "            'l1_ratio': [0.5, 0.7, 0.9]\n",
    "           }\n",
    "lr_search = GridSearchCV(lr, lr_param, cv=kfold, n_jobs=-1, scoring=\"accuracy\").fit(X_train_tf, y_train)\n",
    "print('LR random best score: ', lr_search.best_score_)\n",
    "print('LR random best param: ', lr_search.best_params_)"
   ]
  },
  {
   "cell_type": "code",
   "execution_count": 30,
   "id": "41b459f0",
   "metadata": {},
   "outputs": [
    {
     "name": "stdout",
     "output_type": "stream",
     "text": [
      "KNN random best score:  0.939782345828295\n",
      "KNN random best param:  {'metric': 'euclidean', 'n_neighbors': 9, 'weights': 'distance'}\n"
     ]
    }
   ],
   "source": [
    "# search for KNN\n",
    "knn_param = {'weights': ['uniform', 'distance'],\n",
    "             'metric': ['euclidean', 'manhattan'],\n",
    "             'n_neighbors': [1, 5, 9]\n",
    "            }\n",
    "knn_search = GridSearchCV(knn, knn_param, cv=kfold, n_jobs=-1, scoring=\"accuracy\").fit(X_train_tf, y_train)\n",
    "print('KNN random best score: ', knn_search.best_score_)\n",
    "print('KNN random best param: ', knn_search.best_params_)"
   ]
  },
  {
   "cell_type": "code",
   "execution_count": 31,
   "id": "ba6b8cdd",
   "metadata": {},
   "outputs": [
    {
     "name": "stdout",
     "output_type": "stream",
     "text": [
      "SVM random best score:  0.9721886336154777\n",
      "SVM random best param:  {'C': 1.0, 'gamma': 'scale', 'kernel': 'sigmoid'}\n"
     ]
    }
   ],
   "source": [
    "# search for SVM  \n",
    "svm_param = {'kernel': ['poly', 'rbf', 'sigmoid'],\n",
    "             'C': [1.0, 0.1, 0.01],\n",
    "             'gamma': ['scale']\n",
    "            }\n",
    "svm_search = GridSearchCV(svc, svm_param, cv=kfold, n_jobs=-1, scoring=\"accuracy\").fit(X_train_tf, y_train)\n",
    "print('SVM random best score: ', svm_search.best_score_)\n",
    "print('SVM random best param: ', svm_search.best_params_)"
   ]
  },
  {
   "cell_type": "code",
   "execution_count": 32,
   "id": "708710ee",
   "metadata": {},
   "outputs": [
    {
     "name": "stdout",
     "output_type": "stream",
     "text": [
      "RF random best score:  0.9530834340991536\n",
      "RF random best param:  {'n_estimators': 100, 'max_features': 'sqrt', 'max_depth': 30}\n"
     ]
    }
   ],
   "source": [
    "# search for RF\n",
    "rf_param = {'n_estimators': [10, 100, 1000],\n",
    "           'max_features': ['sqrt', 'log2'],\n",
    "            'max_depth': [15, 25, 30]\n",
    "           }\n",
    "rf_search = RandomizedSearchCV(rf, rf_param, cv=kfold, n_jobs=-1, scoring=\"accuracy\").fit(X_train_tf, y_train)\n",
    "print('RF random best score: ', rf_search.best_score_)\n",
    "print('RF random best param: ', rf_search.best_params_)"
   ]
  },
  {
   "cell_type": "code",
   "execution_count": 33,
   "id": "04663a05",
   "metadata": {},
   "outputs": [
    {
     "name": "stdout",
     "output_type": "stream",
     "text": [
      "DT random best score:  0.935912938331318\n",
      "DT random best param:  {'criterion': 'entropy', 'max_depth': 5, 'min_samples_leaf': 20}\n"
     ]
    }
   ],
   "source": [
    "# search for DT\n",
    "dt_param = {'max_depth': [5, 10, 20],\n",
    "            'min_samples_leaf': [20, 50, 100],\n",
    "            'criterion': [\"gini\", \"entropy\"]\n",
    "           }\n",
    "dt_search = GridSearchCV(dt, dt_param, cv=kfold, n_jobs=-1, scoring=\"accuracy\").fit(X_train_tf, y_train)\n",
    "print('DT random best score: ', dt_search.best_score_)\n",
    "print('DT random best param: ', dt_search.best_params_)"
   ]
  },
  {
   "cell_type": "code",
   "execution_count": 34,
   "id": "21941adc",
   "metadata": {},
   "outputs": [
    {
     "name": "stdout",
     "output_type": "stream",
     "text": [
      "NB random best score:  0.9201934703748489\n",
      "NB random best param:  {'var_smoothing': 0.01519911082952933}\n"
     ]
    }
   ],
   "source": [
    "# search for NB\n",
    "nb_param = {'var_smoothing': np.logspace(0,-9, num=100)}\n",
    "nb_search = RandomizedSearchCV(nb, nb_param, cv=kfold, n_jobs=-1, scoring=\"accuracy\").fit(X_train_tf_arr, y_train)\n",
    "print('NB random best score: ', nb_search.best_score_)\n",
    "print('NB random best param: ', nb_search.best_params_)"
   ]
  },
  {
   "cell_type": "markdown",
   "id": "155e3dc2",
   "metadata": {},
   "source": [
    "### Get out-of-fold predictions for each tuned model"
   ]
  },
  {
   "cell_type": "code",
   "execution_count": 35,
   "id": "eb19eb5e",
   "metadata": {},
   "outputs": [],
   "source": [
    "# out-of-fold portion\n",
    "# return full_y_pred, full_holdout_pred\n",
    "\n",
    "def out_of_fold(model, X_train_tf, X_test_tf, y_train, y_test, kfold):\n",
    "    # initialize arrays to store predictions\n",
    "    full_y_pred = np.empty((0,))\n",
    "    full_holdout_pred = np.zeros(len(X_test_tf))\n",
    "    \n",
    "    y_train_text = np.array(y_train)\n",
    "    \n",
    "    # create out-of-fold predictions for model stacking\n",
    "    for fold, (train_index, test_index) in enumerate(kfold.split(X_train_tf)):\n",
    "        X_train_fold, X_test_fold = X_train_tf[train_index], X_train_tf[test_index]\n",
    "        y_train_fold, y_test_fold = y_train_text[train_index], y_train_text[test_index]\n",
    "        \n",
    "        # fit model\n",
    "        model.fit(X_train_fold, y_train_fold)\n",
    "\n",
    "        # make predictions on fold test and test sets\n",
    "        y_fold_pred = model.predict_proba(X_test_fold)[:, 1]\n",
    "        holdout_pred = model.predict_proba(X_test_tf)[:, 1]\n",
    "\n",
    "\n",
    "        # extend full_y_pred with fold predictions\n",
    "        full_y_pred = np.concatenate((full_y_pred, y_fold_pred))\n",
    "        full_holdout_pred += holdout_pred\n",
    "        \n",
    "    print('full_y_pred', len(full_y_pred), full_y_pred)\n",
    "    \n",
    "    print('full_holdout_pred', len(full_holdout_pred), full_holdout_pred)\n",
    "    \n",
    "    return (full_y_pred, full_holdout_pred)"
   ]
  },
  {
   "cell_type": "code",
   "execution_count": 36,
   "id": "c3ad5e88",
   "metadata": {},
   "outputs": [
    {
     "name": "stdout",
     "output_type": "stream",
     "text": [
      "full_y_pred 4135 [0.0289901  0.05273896 0.25910516 ... 0.05279427 0.04657814 0.05279427]\n",
      "full_holdout_pred 1034 [0.27249189 0.24179538 0.16562685 ... 4.61499161 0.1817328  0.19305768]\n",
      "[0.0289901  0.05273896 0.25910516 ... 0.05279427 0.04657814 0.05279427] [0.27249189 0.24179538 0.16562685 ... 4.61499161 0.1817328  0.19305768]\n"
     ]
    }
   ],
   "source": [
    "# tuned LR\n",
    "lr_best = lr_search.best_params_\n",
    "tuned_lr = LogisticRegression(**lr_best)\n",
    "\n",
    "# lr oof\n",
    "full_lr, holdout_lr = out_of_fold(tuned_lr, X_train_tf_arr, X_test_tf_arr, y_train, y_test, kfold)\n",
    "print(full_lr, holdout_lr)"
   ]
  },
  {
   "cell_type": "code",
   "execution_count": 37,
   "id": "8c919e4c",
   "metadata": {},
   "outputs": [
    {
     "name": "stdout",
     "output_type": "stream",
     "text": [
      "full_y_pred 4135 [0.         0.         0.13610728 ... 0.         0.         0.        ]\n",
      "full_holdout_pred 1034 [0.         0.         0.         ... 3.54673278 0.         0.        ]\n",
      "[0.         0.         0.13610728 ... 0.         0.         0.        ] [0.         0.         0.         ... 3.54673278 0.         0.        ]\n"
     ]
    }
   ],
   "source": [
    "# tuned KNN\n",
    "knn_best = knn_search.best_params_\n",
    "tuned_knn = KNeighborsClassifier(**knn_best)\n",
    "\n",
    "# knn oof\n",
    "full_knn, holdout_knn = out_of_fold(tuned_knn, X_train_tf_arr, X_test_tf_arr, y_train, y_test, kfold)\n",
    "print(full_knn, holdout_knn)"
   ]
  },
  {
   "cell_type": "code",
   "execution_count": 38,
   "id": "0158ecde",
   "metadata": {},
   "outputs": [
    {
     "name": "stdout",
     "output_type": "stream",
     "text": [
      "full_y_pred 4135 [1.49470653e-04 3.75364629e-02 9.49508467e-01 ... 5.77411286e-02\n",
      " 1.48072200e-02 8.55870186e-02]\n",
      "full_holdout_pred 1034 [7.85992640e-03 1.84135637e-03 9.72956997e-03 ... 4.99999999e+00\n",
      " 5.52011889e-02 6.40194210e-02]\n",
      "[1.49470653e-04 3.75364629e-02 9.49508467e-01 ... 5.77411286e-02\n",
      " 1.48072200e-02 8.55870186e-02] [7.85992640e-03 1.84135637e-03 9.72956997e-03 ... 4.99999999e+00\n",
      " 5.52011889e-02 6.40194210e-02]\n"
     ]
    }
   ],
   "source": [
    "# tuned SVC\n",
    "svm_best = svm_search.best_params_\n",
    "tuned_svc = SVC(**svm_best, probability=True)\n",
    "\n",
    "# svm oof\n",
    "full_svm, holdout_svm = out_of_fold(tuned_svc, X_train_tf_arr, X_test_tf_arr, y_train, y_test, kfold)\n",
    "print(full_svm, holdout_svm)"
   ]
  },
  {
   "cell_type": "code",
   "execution_count": 39,
   "id": "52f80f3a",
   "metadata": {},
   "outputs": [
    {
     "name": "stdout",
     "output_type": "stream",
     "text": [
      "full_y_pred 4135 [0.03305323 0.06211294 0.50207698 ... 0.03294296 0.03294296 0.05196546]\n",
      "full_holdout_pred 1034 [0.17809174 0.15976944 0.16142146 ... 4.58897612 0.27184692 0.16784778]\n",
      "[0.03305323 0.06211294 0.50207698 ... 0.03294296 0.03294296 0.05196546] [0.17809174 0.15976944 0.16142146 ... 4.58897612 0.27184692 0.16784778]\n"
     ]
    }
   ],
   "source": [
    "# tuned RF\n",
    "rf_best = rf_search.best_params_\n",
    "tuned_rf = RandomForestClassifier(**rf_best)\n",
    "\n",
    "# RF oof\n",
    "full_rf, holdout_rf = out_of_fold(tuned_rf, X_train_tf_arr, X_test_tf_arr, y_train, y_test, kfold)\n",
    "print(full_rf, holdout_rf)"
   ]
  },
  {
   "cell_type": "code",
   "execution_count": 40,
   "id": "d2c8f70e",
   "metadata": {},
   "outputs": [
    {
     "name": "stdout",
     "output_type": "stream",
     "text": [
      "full_y_pred 4135 [0.02723881 0.02723881 0.22641509 ... 0.02769461 0.02769461 0.02769461]\n",
      "full_holdout_pred 1034 [0.13835223 0.13835223 0.13835223 ... 4.45998168 0.13835223 0.13835223]\n",
      "[0.02723881 0.02723881 0.22641509 ... 0.02769461 0.02769461 0.02769461] [0.13835223 0.13835223 0.13835223 ... 4.45998168 0.13835223 0.13835223]\n"
     ]
    }
   ],
   "source": [
    "# tuned RF\n",
    "dt_best = dt_search.best_params_\n",
    "tuned_dt = DecisionTreeClassifier(**dt_best)\n",
    "\n",
    "# RF oof\n",
    "full_dt, holdout_dt = out_of_fold(tuned_dt, X_train_tf_arr, X_test_tf_arr, y_train, y_test, kfold)\n",
    "print(full_dt, holdout_dt)"
   ]
  },
  {
   "cell_type": "code",
   "execution_count": 41,
   "id": "db43a743",
   "metadata": {},
   "outputs": [
    {
     "name": "stdout",
     "output_type": "stream",
     "text": [
      "full_y_pred 4135 [0.00000000e+000 1.00000000e+000 1.00000000e+000 ... 1.10998646e-253\n",
      " 0.00000000e+000 7.27251969e-001]\n",
      "full_holdout_pred 1034 [0. 0. 0. ... 5. 0. 0.]\n",
      "[0.00000000e+000 1.00000000e+000 1.00000000e+000 ... 1.10998646e-253\n",
      " 0.00000000e+000 7.27251969e-001] [0. 0. 0. ... 5. 0. 0.]\n"
     ]
    }
   ],
   "source": [
    "# tuned NB\n",
    "nb_best = nb_search.best_params_\n",
    "tuned_nb = GaussianNB(**nb_best)\n",
    "\n",
    "# RF oof\n",
    "full_nb, holdout_nb = out_of_fold(tuned_nb, X_train_tf_arr, X_test_tf_arr, y_train, y_test, kfold)\n",
    "print(full_nb, holdout_nb)"
   ]
  },
  {
   "cell_type": "markdown",
   "id": "bdca997a",
   "metadata": {},
   "source": [
    "### Stack models' predictions to make a new training data for meta class "
   ]
  },
  {
   "cell_type": "code",
   "execution_count": 42,
   "id": "b2edda40",
   "metadata": {},
   "outputs": [],
   "source": [
    "stack_train = np.column_stack((full_lr, full_knn, full_svm, full_rf, full_dt, full_nb))\n",
    "stack_test = np.column_stack((holdout_lr, holdout_knn, holdout_svm, holdout_rf, holdout_dt, holdout_nb))"
   ]
  },
  {
   "cell_type": "code",
   "execution_count": 43,
   "id": "26eaea38",
   "metadata": {},
   "outputs": [
    {
     "data": {
      "text/html": [
       "<div>\n",
       "<style scoped>\n",
       "    .dataframe tbody tr th:only-of-type {\n",
       "        vertical-align: middle;\n",
       "    }\n",
       "\n",
       "    .dataframe tbody tr th {\n",
       "        vertical-align: top;\n",
       "    }\n",
       "\n",
       "    .dataframe thead th {\n",
       "        text-align: right;\n",
       "    }\n",
       "</style>\n",
       "<table border=\"1\" class=\"dataframe\">\n",
       "  <thead>\n",
       "    <tr style=\"text-align: right;\">\n",
       "      <th></th>\n",
       "      <th>0</th>\n",
       "      <th>1</th>\n",
       "      <th>2</th>\n",
       "      <th>3</th>\n",
       "      <th>4</th>\n",
       "      <th>5</th>\n",
       "    </tr>\n",
       "  </thead>\n",
       "  <tbody>\n",
       "    <tr>\n",
       "      <th>0</th>\n",
       "      <td>0.028990</td>\n",
       "      <td>0.000000</td>\n",
       "      <td>0.000149</td>\n",
       "      <td>0.033053</td>\n",
       "      <td>0.027239</td>\n",
       "      <td>0.000000e+00</td>\n",
       "    </tr>\n",
       "    <tr>\n",
       "      <th>1</th>\n",
       "      <td>0.052739</td>\n",
       "      <td>0.000000</td>\n",
       "      <td>0.037536</td>\n",
       "      <td>0.062113</td>\n",
       "      <td>0.027239</td>\n",
       "      <td>1.000000e+00</td>\n",
       "    </tr>\n",
       "    <tr>\n",
       "      <th>2</th>\n",
       "      <td>0.259105</td>\n",
       "      <td>0.136107</td>\n",
       "      <td>0.949508</td>\n",
       "      <td>0.502077</td>\n",
       "      <td>0.226415</td>\n",
       "      <td>1.000000e+00</td>\n",
       "    </tr>\n",
       "    <tr>\n",
       "      <th>3</th>\n",
       "      <td>0.027980</td>\n",
       "      <td>0.000000</td>\n",
       "      <td>0.000704</td>\n",
       "      <td>0.034543</td>\n",
       "      <td>0.027239</td>\n",
       "      <td>0.000000e+00</td>\n",
       "    </tr>\n",
       "    <tr>\n",
       "      <th>4</th>\n",
       "      <td>0.031561</td>\n",
       "      <td>0.000000</td>\n",
       "      <td>0.000161</td>\n",
       "      <td>0.032836</td>\n",
       "      <td>0.027239</td>\n",
       "      <td>0.000000e+00</td>\n",
       "    </tr>\n",
       "    <tr>\n",
       "      <th>...</th>\n",
       "      <td>...</td>\n",
       "      <td>...</td>\n",
       "      <td>...</td>\n",
       "      <td>...</td>\n",
       "      <td>...</td>\n",
       "      <td>...</td>\n",
       "    </tr>\n",
       "    <tr>\n",
       "      <th>4130</th>\n",
       "      <td>0.018411</td>\n",
       "      <td>0.000000</td>\n",
       "      <td>0.000173</td>\n",
       "      <td>0.032943</td>\n",
       "      <td>0.027695</td>\n",
       "      <td>0.000000e+00</td>\n",
       "    </tr>\n",
       "    <tr>\n",
       "      <th>4131</th>\n",
       "      <td>0.216386</td>\n",
       "      <td>0.304534</td>\n",
       "      <td>0.727467</td>\n",
       "      <td>0.407936</td>\n",
       "      <td>0.707317</td>\n",
       "      <td>1.000000e+00</td>\n",
       "    </tr>\n",
       "    <tr>\n",
       "      <th>4132</th>\n",
       "      <td>0.052794</td>\n",
       "      <td>0.000000</td>\n",
       "      <td>0.057741</td>\n",
       "      <td>0.032943</td>\n",
       "      <td>0.027695</td>\n",
       "      <td>1.109986e-253</td>\n",
       "    </tr>\n",
       "    <tr>\n",
       "      <th>4133</th>\n",
       "      <td>0.046578</td>\n",
       "      <td>0.000000</td>\n",
       "      <td>0.014807</td>\n",
       "      <td>0.032943</td>\n",
       "      <td>0.027695</td>\n",
       "      <td>0.000000e+00</td>\n",
       "    </tr>\n",
       "    <tr>\n",
       "      <th>4134</th>\n",
       "      <td>0.052794</td>\n",
       "      <td>0.000000</td>\n",
       "      <td>0.085587</td>\n",
       "      <td>0.051965</td>\n",
       "      <td>0.027695</td>\n",
       "      <td>7.272520e-01</td>\n",
       "    </tr>\n",
       "  </tbody>\n",
       "</table>\n",
       "<p>4135 rows × 6 columns</p>\n",
       "</div>"
      ],
      "text/plain": [
       "             0         1         2         3         4              5\n",
       "0     0.028990  0.000000  0.000149  0.033053  0.027239   0.000000e+00\n",
       "1     0.052739  0.000000  0.037536  0.062113  0.027239   1.000000e+00\n",
       "2     0.259105  0.136107  0.949508  0.502077  0.226415   1.000000e+00\n",
       "3     0.027980  0.000000  0.000704  0.034543  0.027239   0.000000e+00\n",
       "4     0.031561  0.000000  0.000161  0.032836  0.027239   0.000000e+00\n",
       "...        ...       ...       ...       ...       ...            ...\n",
       "4130  0.018411  0.000000  0.000173  0.032943  0.027695   0.000000e+00\n",
       "4131  0.216386  0.304534  0.727467  0.407936  0.707317   1.000000e+00\n",
       "4132  0.052794  0.000000  0.057741  0.032943  0.027695  1.109986e-253\n",
       "4133  0.046578  0.000000  0.014807  0.032943  0.027695   0.000000e+00\n",
       "4134  0.052794  0.000000  0.085587  0.051965  0.027695   7.272520e-01\n",
       "\n",
       "[4135 rows x 6 columns]"
      ]
     },
     "execution_count": 43,
     "metadata": {},
     "output_type": "execute_result"
    }
   ],
   "source": [
    "stack_train_df = pd.DataFrame(stack_train)\n",
    "stack_train_df"
   ]
  },
  {
   "cell_type": "code",
   "execution_count": 44,
   "id": "7d249058",
   "metadata": {},
   "outputs": [
    {
     "data": {
      "text/html": [
       "<div>\n",
       "<style scoped>\n",
       "    .dataframe tbody tr th:only-of-type {\n",
       "        vertical-align: middle;\n",
       "    }\n",
       "\n",
       "    .dataframe tbody tr th {\n",
       "        vertical-align: top;\n",
       "    }\n",
       "\n",
       "    .dataframe thead th {\n",
       "        text-align: right;\n",
       "    }\n",
       "</style>\n",
       "<table border=\"1\" class=\"dataframe\">\n",
       "  <thead>\n",
       "    <tr style=\"text-align: right;\">\n",
       "      <th></th>\n",
       "      <th>0</th>\n",
       "      <th>1</th>\n",
       "      <th>2</th>\n",
       "      <th>3</th>\n",
       "      <th>4</th>\n",
       "      <th>5</th>\n",
       "    </tr>\n",
       "  </thead>\n",
       "  <tbody>\n",
       "    <tr>\n",
       "      <th>0</th>\n",
       "      <td>0.272492</td>\n",
       "      <td>0.000000</td>\n",
       "      <td>0.007860</td>\n",
       "      <td>0.178092</td>\n",
       "      <td>0.138352</td>\n",
       "      <td>0.0</td>\n",
       "    </tr>\n",
       "    <tr>\n",
       "      <th>1</th>\n",
       "      <td>0.241795</td>\n",
       "      <td>0.000000</td>\n",
       "      <td>0.001841</td>\n",
       "      <td>0.159769</td>\n",
       "      <td>0.138352</td>\n",
       "      <td>0.0</td>\n",
       "    </tr>\n",
       "    <tr>\n",
       "      <th>2</th>\n",
       "      <td>0.165627</td>\n",
       "      <td>0.000000</td>\n",
       "      <td>0.009730</td>\n",
       "      <td>0.161421</td>\n",
       "      <td>0.138352</td>\n",
       "      <td>0.0</td>\n",
       "    </tr>\n",
       "    <tr>\n",
       "      <th>3</th>\n",
       "      <td>0.209849</td>\n",
       "      <td>0.000000</td>\n",
       "      <td>0.038478</td>\n",
       "      <td>0.159865</td>\n",
       "      <td>0.138352</td>\n",
       "      <td>0.0</td>\n",
       "    </tr>\n",
       "    <tr>\n",
       "      <th>4</th>\n",
       "      <td>0.210652</td>\n",
       "      <td>0.000000</td>\n",
       "      <td>0.006742</td>\n",
       "      <td>0.159769</td>\n",
       "      <td>0.138352</td>\n",
       "      <td>0.0</td>\n",
       "    </tr>\n",
       "    <tr>\n",
       "      <th>...</th>\n",
       "      <td>...</td>\n",
       "      <td>...</td>\n",
       "      <td>...</td>\n",
       "      <td>...</td>\n",
       "      <td>...</td>\n",
       "      <td>...</td>\n",
       "    </tr>\n",
       "    <tr>\n",
       "      <th>1029</th>\n",
       "      <td>4.329394</td>\n",
       "      <td>1.210303</td>\n",
       "      <td>4.976182</td>\n",
       "      <td>2.153712</td>\n",
       "      <td>3.300000</td>\n",
       "      <td>5.0</td>\n",
       "    </tr>\n",
       "    <tr>\n",
       "      <th>1030</th>\n",
       "      <td>0.266277</td>\n",
       "      <td>0.000000</td>\n",
       "      <td>0.059382</td>\n",
       "      <td>0.159769</td>\n",
       "      <td>0.138352</td>\n",
       "      <td>0.0</td>\n",
       "    </tr>\n",
       "    <tr>\n",
       "      <th>1031</th>\n",
       "      <td>4.614992</td>\n",
       "      <td>3.546733</td>\n",
       "      <td>5.000000</td>\n",
       "      <td>4.588976</td>\n",
       "      <td>4.459982</td>\n",
       "      <td>5.0</td>\n",
       "    </tr>\n",
       "    <tr>\n",
       "      <th>1032</th>\n",
       "      <td>0.181733</td>\n",
       "      <td>0.000000</td>\n",
       "      <td>0.055201</td>\n",
       "      <td>0.271847</td>\n",
       "      <td>0.138352</td>\n",
       "      <td>0.0</td>\n",
       "    </tr>\n",
       "    <tr>\n",
       "      <th>1033</th>\n",
       "      <td>0.193058</td>\n",
       "      <td>0.000000</td>\n",
       "      <td>0.064019</td>\n",
       "      <td>0.167848</td>\n",
       "      <td>0.138352</td>\n",
       "      <td>0.0</td>\n",
       "    </tr>\n",
       "  </tbody>\n",
       "</table>\n",
       "<p>1034 rows × 6 columns</p>\n",
       "</div>"
      ],
      "text/plain": [
       "             0         1         2         3         4    5\n",
       "0     0.272492  0.000000  0.007860  0.178092  0.138352  0.0\n",
       "1     0.241795  0.000000  0.001841  0.159769  0.138352  0.0\n",
       "2     0.165627  0.000000  0.009730  0.161421  0.138352  0.0\n",
       "3     0.209849  0.000000  0.038478  0.159865  0.138352  0.0\n",
       "4     0.210652  0.000000  0.006742  0.159769  0.138352  0.0\n",
       "...        ...       ...       ...       ...       ...  ...\n",
       "1029  4.329394  1.210303  4.976182  2.153712  3.300000  5.0\n",
       "1030  0.266277  0.000000  0.059382  0.159769  0.138352  0.0\n",
       "1031  4.614992  3.546733  5.000000  4.588976  4.459982  5.0\n",
       "1032  0.181733  0.000000  0.055201  0.271847  0.138352  0.0\n",
       "1033  0.193058  0.000000  0.064019  0.167848  0.138352  0.0\n",
       "\n",
       "[1034 rows x 6 columns]"
      ]
     },
     "execution_count": 44,
     "metadata": {},
     "output_type": "execute_result"
    }
   ],
   "source": [
    "stack_test_df = pd.DataFrame(stack_test)\n",
    "stack_test_df"
   ]
  },
  {
   "cell_type": "markdown",
   "id": "4dce4c18",
   "metadata": {},
   "source": [
    "### Cross val score with meta model"
   ]
  },
  {
   "cell_type": "code",
   "execution_count": 46,
   "id": "173e4e6b",
   "metadata": {},
   "outputs": [
    {
     "name": "stdout",
     "output_type": "stream",
     "text": [
      "Meta mean accuracy 0.8732769044740024\n"
     ]
    }
   ],
   "source": [
    "from sklearn.ensemble import GradientBoostingClassifier\n",
    "\n",
    "meta_model = GradientBoostingClassifier(learning_rate=0.02, n_estimators=1100, n_iter_no_change=100, random_state=42)\n",
    "\n",
    "cv_score = cross_val_score(meta_model, stack_train_df, y_train, cv=kfold, scoring=\"accuracy\")\n",
    "print(\"Meta mean accuracy\", np.mean(cv_score))"
   ]
  },
  {
   "cell_type": "markdown",
   "id": "08d55e9d",
   "metadata": {},
   "source": [
    "### Tuned meta model"
   ]
  },
  {
   "cell_type": "code",
   "execution_count": 47,
   "id": "70ac9d55",
   "metadata": {},
   "outputs": [
    {
     "name": "stdout",
     "output_type": "stream",
     "text": [
      "Meta grid best score:  0.8737605804111246\n",
      "Meta grid best param:  {'max_depth': 4, 'min_samples_leaf': 50, 'subsample': 0.5}\n"
     ]
    }
   ],
   "source": [
    "meta_param = {'max_depth': [4, 6, 8], \n",
    "             'subsample': [0.5, 0.75, 1.0], \n",
    "             'min_samples_leaf': [50, 60, 70]}\n",
    "\n",
    "meta_grid = GridSearchCV(meta_model, meta_param, cv=kfold, scoring=\"accuracy\", n_jobs=-1).fit(stack_train_df, y_train)\n",
    "\n",
    "print('Meta grid best score: ', meta_grid.best_score_)\n",
    "print('Meta grid best param: ', meta_grid.best_params_)"
   ]
  },
  {
   "cell_type": "markdown",
   "id": "d53be700",
   "metadata": {},
   "source": [
    "### Import metrics"
   ]
  },
  {
   "cell_type": "code",
   "execution_count": 96,
   "id": "32f4026a",
   "metadata": {},
   "outputs": [],
   "source": [
    "from sklearn.metrics import confusion_matrix, accuracy_score, precision_score, recall_score, f1_score"
   ]
  },
  {
   "cell_type": "markdown",
   "id": "9f401bed",
   "metadata": {},
   "source": [
    "### Meta model on test set"
   ]
  },
  {
   "cell_type": "code",
   "execution_count": 192,
   "id": "ca407202",
   "metadata": {},
   "outputs": [],
   "source": [
    "meta_best = meta_grid.best_params_\n",
    "\n",
    "final_meta = GradientBoostingClassifier(learning_rate=0.01, n_estimators=1000, \n",
    "                                        n_iter_no_change=100, random_state=42,\n",
    "                                       **meta_best)\n",
    "\n",
    "# evaluate on test set\n",
    "final_meta.fit(stack_train_df, y_train)\n",
    "y_pred = final_meta.predict(stack_test_df)\n",
    "\n",
    "final_acc = accuracy_score(y_test, y_pred)"
   ]
  },
  {
   "cell_type": "code",
   "execution_count": 193,
   "id": "23280871",
   "metadata": {},
   "outputs": [
    {
     "data": {
      "text/plain": [
       "0.8733075435203095"
      ]
     },
     "execution_count": 193,
     "metadata": {},
     "output_type": "execute_result"
    }
   ],
   "source": [
    "final_acc"
   ]
  },
  {
   "cell_type": "markdown",
   "id": "34c2e6cb",
   "metadata": {},
   "source": [
    "### Helper function to evaluate each model on test set"
   ]
  },
  {
   "cell_type": "code",
   "execution_count": 194,
   "id": "5ae34cb1",
   "metadata": {},
   "outputs": [],
   "source": [
    "def evaluate(models, X_train_tf, X_test_tf, y_train, y_test):\n",
    "    acc_scores = []\n",
    "    prec_scores = []\n",
    "    rec_scores = []\n",
    "    f1_scores =  []\n",
    "    \n",
    "    for model in models:\n",
    "        model.fit(X_train_tf, y_train)\n",
    "        model_pred = model.predict(X_test_tf)\n",
    "        \n",
    "        model_acc = accuracy_score(y_test, model_pred)\n",
    "        model_prec = precision_score(y_test, model_pred, pos_label=\"spam\")\n",
    "        model_rec = recall_score(y_test, model_pred, pos_label=\"spam\")\n",
    "        model_f1 = f1_score(y_test, model_pred, pos_label=\"spam\")\n",
    "        \n",
    "        acc_scores.append(model_acc)\n",
    "        prec_scores.append(model_prec)\n",
    "        rec_scores.append(model_rec)\n",
    "        f1_scores.append(model_f1)\n",
    "        \n",
    "        \n",
    "    for i in range(len(models)):\n",
    "        print(pipe_dict[i], 'accuracy:', acc_scores[i])\n",
    "        print(pipe_dict[i], 'precision:', prec_scores[i])\n",
    "        print(pipe_dict[i], 'recall:', rec_scores[i])\n",
    "        print(pipe_dict[i], 'f1:', f1_scores[i])\n",
    "        \n",
    "    return (acc_scores, prec_scores, rec_scores, f1_scores)"
   ]
  },
  {
   "cell_type": "code",
   "execution_count": 195,
   "id": "6bb73d9e",
   "metadata": {},
   "outputs": [],
   "source": [
    "def nb_evaluate(model, X_train_tf_arr, X_test_tf_arr, y_train, y_test):\n",
    "    # fit model\n",
    "    model.fit(X_train_tf_arr, y_train)\n",
    "    model_pred = model.predict(X_test_tf_arr)\n",
    "    \n",
    "    # get accuracy score\n",
    "    model_acc = accuracy_score(y_test, model_pred)\n",
    "    model_prec = precision_score(y_test, model_pred, pos_label=\"spam\")\n",
    "    model_rec = recall_score(y_test, model_pred, pos_label=\"spam\")\n",
    "    model_f1 = f1_score(y_test, model_pred, pos_label=\"spam\")\n",
    "    \n",
    "    print(\"Naive Bayes accuracy\" ':', model_acc)\n",
    "    print(\"Naive Bayes precision\" ':', model_prec)\n",
    "    print(\"Naive Bayes recall\" ':', model_rec)\n",
    "    print(\"Naive Bayes f1\" ':', model_f1)\n",
    "    \n",
    "    return (model_acc, model_prec, model_rec, model_f1)"
   ]
  },
  {
   "cell_type": "markdown",
   "id": "bf6e8d51",
   "metadata": {},
   "source": [
    "### Tuned models on test set: accuracy, precision, recall, F1 scores"
   ]
  },
  {
   "cell_type": "code",
   "execution_count": 196,
   "id": "c3db1313",
   "metadata": {},
   "outputs": [
    {
     "name": "stdout",
     "output_type": "stream",
     "text": [
      "Logistic Regression accuracy: 0.9593810444874274\n",
      "Logistic Regression precision: 0.968421052631579\n",
      "Logistic Regression recall: 0.7022900763358778\n",
      "Logistic Regression f1: 0.8141592920353982\n",
      "K Nearest Neighbor accuracy: 0.9390715667311412\n",
      "K Nearest Neighbor precision: 1.0\n",
      "K Nearest Neighbor recall: 0.5190839694656488\n",
      "K Nearest Neighbor f1: 0.6834170854271356\n",
      "Support Vector Machine accuracy: 0.9816247582205029\n",
      "Support Vector Machine precision: 0.9912280701754386\n",
      "Support Vector Machine recall: 0.8625954198473282\n",
      "Support Vector Machine f1: 0.9224489795918368\n",
      "Random Forrest accuracy: 0.9584139264990329\n",
      "Random Forrest precision: 0.9888888888888889\n",
      "Random Forrest recall: 0.6793893129770993\n",
      "Random Forrest f1: 0.8054298642533936\n",
      "Decision Tree accuracy: 0.9158607350096711\n",
      "Decision Tree precision: 0.782051282051282\n",
      "Decision Tree recall: 0.46564885496183206\n",
      "Decision Tree f1: 0.5837320574162679\n"
     ]
    }
   ],
   "source": [
    "tuned_models = [tuned_lr, tuned_knn, tuned_svc, tuned_rf, tuned_dt]\n",
    "\n",
    "tuned_acc, tuned_prec, tuned_rec, tuned_f1 = evaluate(tuned_models, X_train_tf, X_test_tf, y_train, y_test)"
   ]
  },
  {
   "cell_type": "code",
   "execution_count": 197,
   "id": "e919353a",
   "metadata": {},
   "outputs": [
    {
     "name": "stdout",
     "output_type": "stream",
     "text": [
      "Naive Bayes accuracy: 0.9526112185686654\n",
      "Naive Bayes precision: 0.7383720930232558\n",
      "Naive Bayes recall: 0.9694656488549618\n",
      "Naive Bayes f1: 0.8382838283828382\n"
     ]
    }
   ],
   "source": [
    "nb_acc, nb_prec, nb_rec, nb_f1 = nb_evaluate(tuned_nb, X_train_tf_arr, X_test_tf_arr, y_train, y_test)"
   ]
  },
  {
   "cell_type": "code",
   "execution_count": 198,
   "id": "d6591009",
   "metadata": {},
   "outputs": [],
   "source": [
    "tuned_acc.append(nb_acc)\n",
    "\n",
    "tuned_prec.append(nb_prec)\n",
    "\n",
    "tuned_rec.append(nb_rec)\n",
    "\n",
    "tuned_f1.append(nb_f1)"
   ]
  },
  {
   "cell_type": "markdown",
   "id": "a8633bc3",
   "metadata": {},
   "source": [
    "## ROC AUC"
   ]
  },
  {
   "cell_type": "code",
   "execution_count": 130,
   "id": "f1d6c8c4",
   "metadata": {},
   "outputs": [
    {
     "data": {
      "image/png": "[encoded data removed]",
      "text/plain": [
       "<Figure size 640x480 with 1 Axes>"
      ]
     },
     "metadata": {},
     "output_type": "display_data"
    }
   ],
   "source": [
    "import matplotlib.pyplot as plt\n",
    "\n",
    "from sklearn.metrics import RocCurveDisplay\n",
    "\n",
    "_, ax = plt.subplots()\n",
    "\n",
    "models = [\n",
    "    (\"Logistic Regression\", tuned_lr),\n",
    "    (\"K-nearest Neighbor\", tuned_knn),\n",
    "    (\"Support Vector Machine\", tuned_svc),\n",
    "    (\"Random Forest\", tuned_rf),\n",
    "    (\"Decision Tree\", tuned_dt),\n",
    "    (\"Naive Bayes\", tuned_nb),\n",
    "    (\"Meta Model (GBDT)\", final_meta),\n",
    "]\n",
    "\n",
    "model_displays = {}\n",
    "for name, pipeline in models:\n",
    "    if name == \"Naive Bayes\":\n",
    "        model_displays[name] = RocCurveDisplay.from_estimator(\n",
    "        pipeline, X_test_tf_arr, y_test, ax=ax, name=name\n",
    "    )\n",
    "        \n",
    "    elif name == \"Meta Model (GBDT)\":\n",
    "        model_displays[name] = RocCurveDisplay.from_estimator(\n",
    "        pipeline, stack_test_df, y_test, ax=ax, name=name\n",
    "    )\n",
    "        \n",
    "    else:\n",
    "        model_displays[name] = RocCurveDisplay.from_estimator(\n",
    "            pipeline, X_test_tf, y_test, ax=ax, name=name\n",
    "        )\n",
    "    \n",
    "_ = ax.set_title(\"ROC curve\")"
   ]
  },
  {
   "cell_type": "markdown",
   "id": "3ca8ccbb",
   "metadata": {},
   "source": [
    "## Evaluate where models don't do good"
   ]
  },
  {
   "cell_type": "code",
   "execution_count": null,
   "id": "b107eaca",
   "metadata": {},
   "outputs": [],
   "source": [
    "# boom\n"
   ]
  },
  {
   "cell_type": "markdown",
   "id": "031b57f8",
   "metadata": {},
   "source": [
    "# Metrics used: accuracy, precision, recall, F1 score, ROC AUC, confusion matrix"
   ]
  },
  {
   "cell_type": "markdown",
   "id": "cfaa4473",
   "metadata": {},
   "source": [
    "## Comparison "
   ]
  },
  {
   "cell_type": "code",
   "execution_count": 228,
   "id": "9fab0a74",
   "metadata": {},
   "outputs": [
    {
     "data": {
      "image/png": "[encoded data removed]",
      "text/plain": [
       "<Figure size 1200x600 with 1 Axes>"
      ]
     },
     "metadata": {},
     "output_type": "display_data"
    }
   ],
   "source": [
    "# Sample data (replace with your actual values)\n",
    "model_names = [\"Logistic Regression\", \"K-nearest neighbors\", \n",
    "                  \"Support Vector Machine\", \"Random Forest\", \n",
    "                  \"Decision Tree\", \"Naive Bayes\"]\n",
    "\n",
    "metrics = [\"Precision\", \"Recall\", \"F1-Score\"]\n",
    "\n",
    "data = {\n",
    "    \"Precision\": tuned_prec,\n",
    "    \"Recall\": tuned_rec,\n",
    "    \"F1-Score\": tuned_f1\n",
    "}\n",
    "\n",
    "# Define number of models and width of each bar\n",
    "num_models = len(model_names)\n",
    "bar_width = 0.18 # Adjust bar width as needed\n",
    "\n",
    "# Create x-axis positions for grouped bars\n",
    "index = range(num_models)\n",
    "x = [i for i in index]  # Common x-axis positions\n",
    "\n",
    "# Create the bar plot\n",
    "plt.figure(figsize=(12, 6))\n",
    "\n",
    "# Nested loop for bar positions\n",
    "bar_positions = [i - bar_width * (len(metrics) - 1) / 2 + j * bar_width for j in range(len(metrics)) for i in index]  \n",
    "\n",
    "# Colors for each metric\n",
    "metric_colors = ['b', 'g', 'r']  \n",
    "\n",
    "# Create bars for each metric\n",
    "for metric_idx, metric in enumerate(metrics):\n",
    "    plt.bar(bar_positions[metric_idx * num_models : (metric_idx + 1) * num_models], data[metric], bar_width, label=metric, color=metric_colors[metric_idx])\n",
    "\n",
    "    # Add value labels above each bar\n",
    "    for i, value in enumerate(data[metric]):\n",
    "        y_pos = data[metric][i] + 0.01  # Adjust y-offset for better visibility\n",
    "        plt.text(bar_positions[metric_idx * num_models + i], y_pos, f\"{value:.2f}\", ha='center', va='bottom', fontsize=8)  # Format value with 2 decimals\n",
    "        \n",
    "# Customize the plot\n",
    "plt.xlabel(\"Model Name\")\n",
    "plt.ylabel(\"Score\")\n",
    "plt.title(\"Comparison of Models' Performances: Precision, Recall, F1 Scores\")\n",
    "plt.xticks(x, model_names, rotation=15)  # Set common x-axis labels with rotation\n",
    "plt.grid(axis=\"y\", color = 'gray', linestyle = '--', linewidth = 0.3)\n",
    "plt.legend(loc='center left', bbox_to_anchor=(1, 0.5))\n",
    "plt.savefig('perfomance')\n",
    "\n",
    "# Display the plot\n",
    "plt.show()"
   ]
  },
  {
   "cell_type": "markdown",
   "id": "5f1c8c88",
   "metadata": {},
   "source": [
    "### Tuned models with Meta model"
   ]
  },
  {
   "cell_type": "code",
   "execution_count": 237,
   "id": "2ad8f373",
   "metadata": {},
   "outputs": [
    {
     "data": {
      "text/plain": [
       "[0.9593810444874274,\n",
       " 0.9390715667311412,\n",
       " 0.9816247582205029,\n",
       " 0.9555125725338491,\n",
       " 0.9158607350096711,\n",
       " 0.9526112185686654,\n",
       " 0.8733075435203095]"
      ]
     },
     "execution_count": 237,
     "metadata": {},
     "output_type": "execute_result"
    }
   ],
   "source": [
    "acc_data"
   ]
  },
  {
   "cell_type": "code",
   "execution_count": 238,
   "id": "72014a4d",
   "metadata": {},
   "outputs": [],
   "source": [
    "tuned_acc_plot = [\"Logistic Regression\", \"K-nearest neighbors\", \n",
    "                  \"Support Vector Machine\", \"Random Forest\", \n",
    "                  \"Decision Tree\", \"Naive Bayes\", \"Meta model (GBDT)\"]"
   ]
  },
  {
   "cell_type": "code",
   "execution_count": 242,
   "id": "797ea3e6",
   "metadata": {},
   "outputs": [
    {
     "data": {
      "image/png": "[encoded data removed]",
      "text/plain": [
       "<Figure size 1000x600 with 1 Axes>"
      ]
     },
     "metadata": {},
     "output_type": "display_data"
    }
   ],
   "source": [
    "# Create bar plot\n",
    "plt.figure(figsize=(10, 6))\n",
    "\n",
    "bar_width = 0.5\n",
    "\n",
    "for i in range(len(acc_data)):\n",
    "    plt.bar(tuned_acc_plot[i], acc_data[i], bar_width)\n",
    "    \n",
    "    # add value on top of each bar\n",
    "    y_pos = acc_data[i] + 0.01\n",
    "    plt.text(tuned_acc_plot[i], y_pos, f\"{acc_data[i]:.2f}\", ha='center', va='bottom', fontsize=8)\n",
    "\n",
    "# Customize the plot\n",
    "plt.xlabel(\"Models\")\n",
    "plt.ylabel(\"Accuracy\")\n",
    "plt.title(\"Accuracy comparison of 6 base models and Meta model\")\n",
    "plt.xticks(rotation=15)  # Rotate x-axis labels for readability if many models\n",
    "plt.grid(axis=\"y\", color = 'gray', linestyle = '--', linewidth = 0.3)\n",
    "plt.savefig(\"accuracy_performance\")\n",
    "\n",
    "# Display the plot\n",
    "plt.show()"
   ]
  },
  {
   "cell_type": "code",
   "execution_count": null,
   "id": "55e6cd9d",
   "metadata": {},
   "outputs": [],
   "source": []
  },
  {
   "cell_type": "code",
   "execution_count": null,
   "id": "04d0eff5",
   "metadata": {},
   "outputs": [],
   "source": []
  }
 ],
 "metadata": {
  "kernelspec": {
   "display_name": "Python 3 (ipykernel)",
   "language": "python",
   "name": "python3"
  },
  "language_info": {
   "codemirror_mode": {
    "name": "ipython",
    "version": 3
   },
   "file_extension": ".py",
   "mimetype": "text/x-python",
   "name": "python",
   "nbconvert_exporter": "python",
   "pygments_lexer": "ipython3",
   "version": "3.11.5"
  }
 },
 "nbformat": 4,
 "nbformat_minor": 5
}
